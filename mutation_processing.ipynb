{
 "cells": [
  {
   "cell_type": "code",
   "execution_count": 9,
   "metadata": {},
   "outputs": [],
   "source": [
    "# Import libraries\n",
    "import numpy as np\n",
    "import pandas as pd"
   ]
  },
  {
   "cell_type": "code",
   "execution_count": 10,
   "metadata": {},
   "outputs": [],
   "source": [
    "# Function to standardize sample IDs\n",
    "def standardize(sample_ids):\n",
    "    standard_sample_ids = []\n",
    "    for sample in sample_ids:\n",
    "        if sample[6:11] == \"MSK-P\":\n",
    "            standard = sample[:6] + \"MSKP\" + sample[11:]\n",
    "        elif sample[6:9] == \"UHN\":\n",
    "            standard = sample[:6] + \"UHNA\" + sample[9:]\n",
    "        else:\n",
    "            standard = sample\n",
    "        standard_sample_ids.append(standard[11:])\n",
    "    return standard_sample_ids"
   ]
  },
  {
   "cell_type": "code",
   "execution_count": 12,
   "metadata": {},
   "outputs": [],
   "source": [
    "# Read in AACR data and standardize\n",
    "data = pd.read_csv('Data/primary_tumor_public_clinical_data_UPDATED.csv')\n",
    "sample_ids_std = standardize(list(data[\"Sample ID\"]))\n",
    "sample_ids = list(data['Sample ID'])"
   ]
  },
  {
   "cell_type": "code",
   "execution_count": 13,
   "metadata": {},
   "outputs": [],
   "source": [
    "# Read in mutation data\n",
    "mutations = pd.read_excel('Data/mutation_data.xlsx')"
   ]
  },
  {
   "cell_type": "code",
   "execution_count": 14,
   "metadata": {},
   "outputs": [
    {
     "name": "stdout",
     "output_type": "stream",
     "text": [
      "1048575\n",
      "15560\n"
     ]
    }
   ],
   "source": [
    "# Reduce mutation file size to only have tumor sample barcodes in cleaned data (with GENIE Code)\n",
    "print(mutations.shape[0])\n",
    "matched = mutations[~mutations[\"Tumor_Sample_Barcode\"].isin(sample_ids) == False]\n",
    "print(matched.shape[0])\n",
    "matched.to_csv('Data/matched_genie.csv', index = True)"
   ]
  },
  {
   "cell_type": "code",
   "execution_count": 15,
   "metadata": {},
   "outputs": [
    {
     "name": "stdout",
     "output_type": "stream",
     "text": [
      "        Hugo_Symbol  Entrez_Gene_Id Center NCBI_Build  Chromosome  \\\n",
      "11345          TP53          7157.0    JHU     GRCh37        17.0   \n",
      "14928           NF1          4763.0   DFCI     GRCh37        17.0   \n",
      "14929         EPHA3          2042.0   DFCI     GRCh37         3.0   \n",
      "14930           ATM           472.0   DFCI     GRCh37        11.0   \n",
      "14931            AR           367.0   DFCI     GRCh37         NaN   \n",
      "...             ...             ...    ...        ...         ...   \n",
      "1022386       PREX2         80243.0   UCSF     GRCh37         8.0   \n",
      "1022387       PTPRD          5789.0   UCSF     GRCh37         9.0   \n",
      "1022388        FGF6          2251.0   UCSF     GRCh37        12.0   \n",
      "1022389      COL2A1          1280.0   UCSF     GRCh37        12.0   \n",
      "1022390        CDH1           999.0   UCSF     GRCh37        16.0   \n",
      "\n",
      "         Start_Position  End_Position Strand  \\\n",
      "11345           7578534       7578534      +   \n",
      "14928          29552161      29552161      +   \n",
      "14929          89521655      89521655      +   \n",
      "14930         108155188     108155188      +   \n",
      "14931          66905930      66905930      +   \n",
      "...                 ...           ...    ...   \n",
      "1022386        69129902      69129902      +   \n",
      "1022387         8449804       8449804      +   \n",
      "1022388         4543493       4543493      +   \n",
      "1022389        48375565      48375565      +   \n",
      "1022390        68772317      68772318      +   \n",
      "\n",
      "                                  Consequence Variant_Classification  ...  \\\n",
      "11345                        missense_variant      Missense_Mutation  ...   \n",
      "14928                        missense_variant      Missense_Mutation  ...   \n",
      "14929                        missense_variant      Missense_Mutation  ...   \n",
      "14930                      frameshift_variant        Frame_Shift_Del  ...   \n",
      "14931                        missense_variant      Missense_Mutation  ...   \n",
      "...                                       ...                    ...  ...   \n",
      "1022386                    synonymous_variant                 Silent  ...   \n",
      "1022387                    synonymous_variant                 Silent  ...   \n",
      "1022388                      missense_variant      Missense_Mutation  ...   \n",
      "1022389                    synonymous_variant                 Silent  ...   \n",
      "1022390  splice_region_variant,intron_variant          Splice_Region  ...   \n",
      "\n",
      "        FILTER Polyphen_Prediction Polyphen_Score           SIFT_Prediction  \\\n",
      "11345     PASS   probably_damaging          0.999               deleterious   \n",
      "14928     PASS              benign          0.007  tolerated_low_confidence   \n",
      "14929     PASS              benign          0.081                 tolerated   \n",
      "14930     PASS                 NaN            NaN                       NaN   \n",
      "14931     PASS   probably_damaging          0.998               deleterious   \n",
      "...        ...                 ...            ...                       ...   \n",
      "1022386   PASS                 NaN            NaN                       NaN   \n",
      "1022387   PASS                 NaN            NaN                       NaN   \n",
      "1022388   PASS   probably_damaging          1.000               deleterious   \n",
      "1022389   PASS                 NaN            NaN                       NaN   \n",
      "1022390   PASS                 NaN            NaN                       NaN   \n",
      "\n",
      "        SIFT_Score  SWISSPROT n_depth t_depth Annotation_Status  \\\n",
      "11345         0.00        NaN     NaN   269.0           SUCCESS   \n",
      "14928         1.00        NaN     NaN   430.0           SUCCESS   \n",
      "14929         0.22        NaN     NaN   419.0           SUCCESS   \n",
      "14930          NaN        NaN     NaN   362.0           SUCCESS   \n",
      "14931         0.00        NaN     NaN   421.0           SUCCESS   \n",
      "...            ...        ...     ...     ...               ...   \n",
      "1022386        NaN        NaN     NaN   251.0           SUCCESS   \n",
      "1022387        NaN        NaN     NaN  1068.0           SUCCESS   \n",
      "1022388       0.02        NaN     NaN   575.0           SUCCESS   \n",
      "1022389        NaN        NaN     NaN   197.0           SUCCESS   \n",
      "1022390        NaN        NaN     NaN    67.0           SUCCESS   \n",
      "\n",
      "        mutationInCis_Flag  \n",
      "11345                False  \n",
      "14928                False  \n",
      "14929                False  \n",
      "14930                False  \n",
      "14931                False  \n",
      "...                    ...  \n",
      "1022386              False  \n",
      "1022387              False  \n",
      "1022388              False  \n",
      "1022389              False  \n",
      "1022390              False  \n",
      "\n",
      "[15807 rows x 64 columns]\n"
     ]
    }
   ],
   "source": [
    "# Reduce mutation file size to only have tumor sample barcodes in cleaned data (last numbers)\n",
    "pattern = '|'.join(sample_ids_std)\n",
    "new_mut = mutations[mutations['Tumor_Sample_Barcode'].str.contains(pattern)]\n",
    "print(new_mut)"
   ]
  },
  {
   "cell_type": "code",
   "execution_count": 16,
   "metadata": {},
   "outputs": [
    {
     "name": "stdout",
     "output_type": "stream",
     "text": [
      "1048575\n",
      "15807\n"
     ]
    }
   ],
   "source": [
    "# Export matched data\n",
    "print(mutations.shape[0])\n",
    "print(new_mut.shape[0])\n",
    "new_mut.to_csv('Data/matched_nums.csv', index = True)"
   ]
  }
 ],
 "metadata": {
  "kernelspec": {
   "display_name": "base",
   "language": "python",
   "name": "python3"
  },
  "language_info": {
   "codemirror_mode": {
    "name": "ipython",
    "version": 3
   },
   "file_extension": ".py",
   "mimetype": "text/x-python",
   "name": "python",
   "nbconvert_exporter": "python",
   "pygments_lexer": "ipython3",
   "version": "3.9.12"
  },
  "orig_nbformat": 4,
  "vscode": {
   "interpreter": {
    "hash": "c3c4cfcc03484d22f0ed75b36ddcb5de5e3b75a67602c9848a3a1193319069b6"
   }
  }
 },
 "nbformat": 4,
 "nbformat_minor": 2
}
