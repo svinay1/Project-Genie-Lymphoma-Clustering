{
 "cells": [
  {
   "cell_type": "code",
   "execution_count": 1,
   "metadata": {},
   "outputs": [],
   "source": [
    "# Import libraries\n",
    "import pandas as pd"
   ]
  },
  {
   "cell_type": "code",
   "execution_count": 2,
   "metadata": {},
   "outputs": [
    {
     "name": "stderr",
     "output_type": "stream",
     "text": [
      "/var/folders/b7/ppmcfqq90vgdx0fr1q31fm4w0000gn/T/ipykernel_5196/1357288377.py:1: DtypeWarning: Columns (18,19,20) have mixed types. Specify dtype option on import or set low_memory=False.\n",
      "  mutations = pd.read_csv('Data/matched_nums.csv')\n"
     ]
    }
   ],
   "source": [
    "# Read in matched mutation data\n",
    "mutations = pd.read_csv('Data/matched_nums.csv')"
   ]
  },
  {
   "cell_type": "code",
   "execution_count": 3,
   "metadata": {},
   "outputs": [],
   "source": [
    "# Method to calculate frequency\n",
    "def frequency(dataframe, column):\n",
    "    dictionary = {}\n",
    "    for item in dataframe[column]:\n",
    "        if item in dictionary:\n",
    "            dictionary[item] += 1\n",
    "        else:\n",
    "            dictionary[item] = 1\n",
    "    return dictionary"
   ]
  },
  {
   "cell_type": "code",
   "execution_count": 4,
   "metadata": {},
   "outputs": [
    {
     "name": "stdout",
     "output_type": "stream",
     "text": [
      "2\n"
     ]
    }
   ],
   "source": [
    "# Drop data with frequency less than 4\n",
    "symbol_to_count = frequency(mutations, \"Hugo_Symbol\")\n",
    "copy = frequency(mutations, \"Hugo_Symbol\")\n",
    "count = 0\n",
    "for symbol, count in copy.items():\n",
    "    if count < 4:\n",
    "        mutations.drop(mutations.index[(mutations[\"Hugo_Symbol\"] == symbol)], inplace = True)\n",
    "        symbol_to_count.pop(symbol)\n",
    "        count += 1\n",
    "print(count)"
   ]
  },
  {
   "cell_type": "code",
   "execution_count": 5,
   "metadata": {},
   "outputs": [
    {
     "name": "stdout",
     "output_type": "stream",
     "text": [
      "462\n",
      "{'TP53': 484, 'NF1': 34, 'EPHA3': 26, 'ATM': 266, 'AR': 40, 'CREBBP': 499, 'SF3B1': 135, 'MSH2': 17, 'ERCC3': 9, 'CSF1R': 8, 'GATA6': 5, 'SETD2': 54, 'SUZ12': 14, 'KMT2A': 43, 'KMT2D': 835, 'SMARCA4': 81, 'FGFR4': 14, 'SOCS1': 501, 'FAS': 75, 'BMPR1A': 5, 'RECQL4': 15, 'MYBL1': 5, 'ARAF': 10, 'GNAS-AS1': 6, 'MTOR': 42, 'PDGFRB': 15, 'TNFAIP3': 184, 'CCND3': 104, 'CCND1': 45, 'EP300': 133, 'BCL2': 606, 'PIK3C2B': 8, 'MAPK1': 7, 'FANCA': 30, 'CD79B': 113, 'CARD11': 177, 'RARA': 9, 'GLI3': 5, 'PHF6': 31, 'PALB2': 13, 'CYLD': 9, 'ARID1B': 94, 'MET': 29, 'BCORL1': 16, 'EGFR': 31, 'STAT3': 49, 'DEPDC5': 6, 'IGF1R': 29, 'FLT3': 14, 'BRCA1': 26, 'MYB': 4, 'CRLF2': 8, 'REL': 13, 'XPO1': 57, 'ERCC4': 11, 'NOTCH2': 89, 'CDH1': 20, 'STK11': 9, 'NOTCH1': 148, 'CDKN1A': 6, 'WT1': 16, 'NKX2-1': 13, 'PRKDC': 14, 'GATA3': 5, 'CIITA': 49, 'EPHA7': 39, 'CD58': 68, 'PTPN11': 20, 'MAP3K1': 20, 'PTCH1': 24, 'MITF': 20, 'NFKBIA': 22, 'FGFR2': 14, 'RB1': 42, 'JAK2': 21, 'DNMT3A': 88, 'XPC': 4, 'RHPN2': 7, 'TSC2': 38, 'PDGFRA': 24, 'ID3': 67, 'MYC': 199, 'PTEN': 38, 'GSTM5': 5, 'EZH2': 173, 'CUX1': 23, 'NTRK1': 10, 'RAD21': 6, 'FLCN': 20, 'FANCD2': 18, 'ATRX': 49, 'ALK': 26, 'RFWD2': 4, 'MYD88': 181, 'KDM6B': 11, 'GNA11': 7, 'SMARCB1': 17, 'ASXL1': 41, 'CHEK2': 18, 'GLI1': 9, 'ROS1': 40, 'PAX5': 57, 'RP11-211G3.2': 11, 'IKZF3': 51, 'SETBP1': 13, 'ARID1A': 168, 'ERCC2': 10, 'AKT1': 7, 'MEF2BNB-MEF2B': 140, 'FGFR3': 11, 'CADM2': 7, 'ETV1': 11, 'AKT3': 5, 'EED': 4, 'BCOR': 60, 'EPHA5': 52, 'KDM5C': 16, 'MAP2K1': 48, 'CDKN1B': 23, 'EXT1': 5, 'MECOM': 9, 'BCL6': 61, 'STAT6': 107, 'APC': 36, 'FLT4': 29, 'ZRSR2': 17, 'HRAS': 6, 'KRAS': 71, 'PARK2': 11, 'IKZF1': 32, 'TET2': 148, 'MEN1': 8, 'FUS': 4, 'TSC1': 16, 'PRPF8': 11, 'FKBP9': 4, 'KEAP1': 7, 'GNAQ': 8, 'DDR2': 15, 'SLITRK6': 10, 'PMS2': 10, 'CDKN2B-AS1': 7, 'EWSR1': 7, 'MSH6': 22, 'MDM2': 12, 'BRAF': 93, 'PRF1': 9, 'SDHB': 4, 'AXL': 17, 'SYK': 26, 'ALOX12B': 7, 'PBRM1': 24, 'KIT': 18, 'PMS1': 4, 'JAK3': 20, 'B2M': 159, 'KDM6A': 24, 'BRCA2': 36, 'GNAS': 15, 'NBN': 10, 'SMO': 9, 'MUTYH': 7, 'BRIP1': 14, 'ERBB4': 37, 'ESR1': 10, 'NTRK3': 17, 'CEBPA': 14, 'ZNF217': 18, 'PIM1': 532, 'PIK3R1': 28, 'TERT': 28, 'NOTCH3': 31, 'BLM': 15, 'CBL': 19, 'COL7A1': 15, 'FAT1': 123, 'SOX2': 5, 'NR0B1': 4, 'MED12': 69, 'ABCB11': 6, 'NFE2L2': 7, 'MLH3': 5, 'RIF1': 8, 'NRG1': 7, 'DOCK8': 9, 'RUNX1': 15, 'PTPN14': 7, 'LIG4': 4, 'KLF2': 4, 'PAXIP1': 5, 'FANCC': 9, 'FANCE': 8, 'ERBB3': 19, 'BCL11B': 29, 'BAP1': 9, 'CBLB': 5, 'RNF43': 7, 'ERG': 7, 'SLC25A13': 5, 'CXCR4': 63, 'SLC34A2': 5, 'POLD1': 6, 'KAT6B': 5, 'TCF7L2': 5, 'WRN': 7, 'SLX4': 27, 'PPP2R1A': 6, 'SMAD4': 11, 'TET1': 19, 'EXT2': 6, 'TOPBP1': 8, 'ERCC6': 6, 'FANCF': 4, 'KDM5A': 15, 'POLQ': 14, 'HIST1H3B': 29, 'WHSC1L1': 6, 'KCNQ1': 5, 'FANCM': 9, 'PML': 4, 'RAF1': 13, 'NRAS': 24, 'NSD1': 35, 'PNKP': 4, 'IL7R': 8, 'MGA': 41, 'POT1': 40, 'KDR': 30, 'ERBB2': 17, 'RHBDF2': 5, 'HELQ': 6, 'KIF1B': 8, 'TMEM127': 4, 'GLI2': 12, 'ETV6': 59, 'CDH4': 7, 'TCF3': 18, 'CD274': 12, 'RAD50': 12, 'CIC': 19, 'JAK1': 19, 'USP28': 9, 'SDHA': 7, 'POLE': 10, 'ERCC5': 7, 'BARD1': 6, 'MCM8': 4, 'KAT6A': 8, 'SOS1': 4, 'DICER1': 10, 'RAD51C': 7, 'MAX': 4, 'ETV4': 5, 'TRAF7': 5, 'IDH1': 8, 'C17orf70': 5, 'DIS3L2': 6, 'CTNNB1': 9, 'DIS3': 21, 'RUNX1T1': 20, 'PIK3CA': 17, 'MRE11A': 7, 'STAG2': 25, 'NFKBIE': 11, 'AXIN2': 6, 'MLH1': 16, 'MCL1': 27, 'CTCF': 14, 'SUFU': 8, 'MYCN': 21, 'ARHGAP35': 6, 'ABL1': 17, 'SMC3': 8, 'RPTOR': 16, 'RAD51D': 4, 'ARID2': 25, 'WAS': 4, 'FANCI': 4, 'RICTOR': 17, 'CASP8': 16, 'DAXX': 10, 'NF2': 11, 'ZNRF3': 4, 'FOXA1': 4, 'TRAF3': 10, 'PRDM1': 56, 'SRSF2': 44, 'CDKN2A': 36, 'DMD': 4, 'BUB1B': 6, 'MPL': 6, 'PHOX2B': 5, 'SPOP': 12, 'RET': 17, 'FGFR1': 6, 'FOXO1': 141, 'CCNE1': 5, 'IDH2': 4, 'ARHGEF12': 6, 'CHEK1': 6, 'CDC73': 6, 'WHSC1': 48, 'SOX9': 5, 'FBXW7': 53, 'RHOA': 36, 'NTRK2': 25, 'CCND2': 7, 'ATR': 21, 'TRIM37': 4, 'NFKBIZ': 4, 'CALR': 27, 'JAZF1': 4, 'RAD52': 4, 'H19': 4, 'HNF1A': 13, 'MAP2K2': 8, 'FLT1': 15, 'MAP2K4': 8, 'CSF3R': 7, 'BRD4': 15, 'CDK12': 8, 'FOXL2': 7, 'CDK8': 8, 'CDKN2B': 4, 'ETV5': 5, 'C1orf86': 4, 'PNRC1': 10, 'CRTC2': 4, 'U2AF1': 20, 'SMC1A': 8, 'PTPRD': 12, 'IGHJ4': 4, 'MDM4': 5, 'CDKN2C': 5, 'IGHJ5': 8, 'SH2B3': 8, 'STAG1': 6, 'IGHJ6': 4, 'HIST1H1B': 54, 'PIK3C3': 17, 'IRF8': 115, 'SETD1B': 80, 'BCL10': 46, 'HIST1H1E': 186, 'ACTG1': 73, 'LTB': 75, 'TNFRSF14': 257, 'HIST1H1D': 48, 'BTG1': 113, 'BCR': 97, 'FURIN': 5, 'HLA-A': 96, 'DTX1': 97, 'ATP6V1B2': 34, 'HIST1H2AC': 26, 'MPEG1': 62, 'SPEN': 66, 'MAP3K13': 5, 'SAMHD1': 31, 'SGK1': 110, 'PLCG2': 41, 'GNA13': 120, 'HIST1H1C': 95, 'ARID4A': 5, 'EGR1': 33, 'NCOR2': 20, 'PDS5B': 21, 'IRF4': 91, 'TSHR': 14, 'HIST1H3G': 27, 'ROBO1': 55, 'NOTCH4': 11, 'ATP6AP1': 12, 'MGAM': 19, 'ESCO2': 6, 'INPP4B': 20, 'TGFBR2': 10, 'SETD1A': 12, 'SETDB1': 15, 'NFE2': 4, 'HIST1H2AM': 45, 'DDX3X': 36, 'XBP1': 18, 'FBXO11': 21, 'RRAGC': 35, 'HIST1H2BJ': 40, 'EP400': 22, 'TBX3': 18, 'HIST1H2AL': 4, 'FAM46C': 6, 'ARID5B': 41, 'PTPN1': 5, 'PAK7': 11, 'TBL1XR1': 73, 'BTK': 67, 'ZFHX3': 7, 'TP63': 15, 'UBR5': 41, 'HIST1H2BD': 19, 'FOXP1': 8, 'HDAC1': 4, 'IRS2': 19, 'ETNK1': 11, 'GNB1': 6, 'XIAP': 4, 'NCOR1': 21, 'HGF': 34, 'HIST1H2BK': 25, 'TRAF2': 10, 'P2RY8': 43, 'BIRC3': 48, 'SETD5': 10, 'HIST1H2BC': 29, 'STAT5A': 6, 'MALT1': 11, 'CD79A': 36, 'TET3': 17, 'EIF4A2': 4, 'ARHGEF28': 18, 'HDAC4': 12, 'KMT2C': 37, 'HIST1H2BG': 17, 'ASXL2': 15, 'TYK2': 4, 'PIK3C2G': 34, 'HIST1H2BO': 12, 'SP140': 17, 'PIGA': 4, 'KSR2': 10, 'EPHB1': 13, 'JUN': 6, 'ARID5A': 4, 'VAV1': 9, 'PIK3CG': 4, 'RTEL1': 4, 'SDHC': 4, 'PTPRT': 4, 'VAV2': 9, 'PCBP1': 16, 'ARID4B': 12, 'AMER1': 5, 'CRKL': 4, 'INSR': 4, 'ATXN2': 9, 'DOT1L': 7, 'AXIN1': 4, 'TOP1': 7, 'PIK3R2': 4, 'GRIN2A': 16, 'HLA-B': 5, 'FGF3': 5, 'HIST1H3F': 5, 'PIK3CD': 5, 'HDAC7': 8, 'SETD7': 4, 'SMG1': 13, 'KMT2B': 14, 'ARID3A': 7, 'BACH2': 6, 'U2AF2': 10, 'PARP1': 5, 'JARID2': 6}\n"
     ]
    }
   ],
   "source": [
    "# Print out mutation frequencies\n",
    "print(len(frequency(mutations, \"Hugo_Symbol\")))\n",
    "print(frequency(mutations, \"Hugo_Symbol\"))"
   ]
  },
  {
   "cell_type": "code",
   "execution_count": 6,
   "metadata": {},
   "outputs": [],
   "source": [
    "# Export mutation data\n",
    "mutations.to_csv('Data/hugo_filtered.csv', index = True)"
   ]
  }
 ],
 "metadata": {
  "kernelspec": {
   "display_name": "base",
   "language": "python",
   "name": "python3"
  },
  "language_info": {
   "codemirror_mode": {
    "name": "ipython",
    "version": 3
   },
   "file_extension": ".py",
   "mimetype": "text/x-python",
   "name": "python",
   "nbconvert_exporter": "python",
   "pygments_lexer": "ipython3",
   "version": "3.9.12"
  },
  "orig_nbformat": 4,
  "vscode": {
   "interpreter": {
    "hash": "c3c4cfcc03484d22f0ed75b36ddcb5de5e3b75a67602c9848a3a1193319069b6"
   }
  }
 },
 "nbformat": 4,
 "nbformat_minor": 2
}
