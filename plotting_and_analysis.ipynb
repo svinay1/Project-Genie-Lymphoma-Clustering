{
 "cells": [
  {
   "cell_type": "code",
   "execution_count": 1,
   "metadata": {},
   "outputs": [],
   "source": [
    "# Import libraries\n",
    "import numpy as np\n",
    "import pandas as pd\n",
    "import seaborn as sb\n",
    "import matplotlib.pyplot as plt\n",
    "import math"
   ]
  },
  {
   "cell_type": "code",
   "execution_count": 2,
   "metadata": {},
   "outputs": [],
   "source": [
    "# Read in data\n",
    "dummy_variables = pd.read_csv('Data/dummy_variables.csv')"
   ]
  },
  {
   "cell_type": "code",
   "execution_count": 3,
   "metadata": {},
   "outputs": [
    {
     "name": "stdout",
     "output_type": "stream",
     "text": [
      "      Unnamed: 0                       Sample ID         Standardized  \\\n",
      "0              0  GENIE-CHOP-C1204785-BSEQR5EWF3  C1204785-BSEQR5EWF3   \n",
      "1              1  GENIE-CHOP-C1278462-BSDZJGE0K4  C1278462-BSDZJGE0K4   \n",
      "2              2  GENIE-CHOP-C2419533-BSGAM8FWDY  C2419533-BSGAM8FWDY   \n",
      "3              3  GENIE-CHOP-C2780169-BSAQPPSDSZ  C2780169-BSAQPPSDSZ   \n",
      "4              4  GENIE-CHOP-C3974991-BSC2G24YG8  C3974991-BSC2G24YG8   \n",
      "...          ...                             ...                  ...   \n",
      "2347        2347             GENIE-YALE-TPL350-1             TPL350-1   \n",
      "2348        2348             GENIE-YALE-TPL484-1             TPL484-1   \n",
      "2349        2349             GENIE-YALE-TPL807-1             TPL807-1   \n",
      "2350        2350             GENIE-YALE-TPL879-1             TPL879-1   \n",
      "2351        2351             GENIE-YALE-TPL931-1             TPL931-1   \n",
      "\n",
      "                            Cancer Type Detailed  STAT5A  HIST1H3B  IRS2  \\\n",
      "0                        Mature B-Cell Neoplasms     0.0       0.0   0.0   \n",
      "1                               Burkitt Lymphoma     0.0       0.0   0.0   \n",
      "2                               Burkitt Lymphoma     0.0       0.0   0.0   \n",
      "3      Burkitt-Like Lymphoma with 11q Aberration     0.0       0.0   0.0   \n",
      "4                   Nodal Marginal Zone Lymphoma     0.0       0.0   0.0   \n",
      "...                                          ...     ...       ...   ...   \n",
      "2347                         Follicular Lymphoma     0.0       0.0   0.0   \n",
      "2348                        Mantle Cell Lymphoma     0.0       0.0   0.0   \n",
      "2349              Splenic Marginal Zone Lymphoma     0.0       0.0   0.0   \n",
      "2350  Primary Cutaneous Follicle Center Lymphoma     0.0       0.0   0.0   \n",
      "2351                        Mantle Cell Lymphoma     0.0       0.0   0.0   \n",
      "\n",
      "      GNAQ  BLM  CD58  ...  PARK2  SMARCB1  TET1  EGR1  NKX2-1  STAG1  TP53  \\\n",
      "0      0.0  0.0   0.0  ...    0.0      0.0   0.0   0.0     0.0    0.0   0.0   \n",
      "1      0.0  0.0   0.0  ...    0.0      0.0   0.0   0.0     0.0    0.0   0.0   \n",
      "2      0.0  0.0   0.0  ...    0.0      0.0   0.0   0.0     0.0    0.0   0.0   \n",
      "3      0.0  0.0   0.0  ...    0.0      0.0   0.0   0.0     0.0    0.0   0.0   \n",
      "4      0.0  0.0   0.0  ...    0.0      0.0   0.0   0.0     0.0    0.0   0.0   \n",
      "...    ...  ...   ...  ...    ...      ...   ...   ...     ...    ...   ...   \n",
      "2347   0.0  0.0   0.0  ...    0.0      0.0   0.0   0.0     0.0    0.0   0.0   \n",
      "2348   0.0  0.0   0.0  ...    0.0      0.0   0.0   0.0     0.0    0.0   0.0   \n",
      "2349   0.0  0.0   0.0  ...    0.0      0.0   0.0   0.0     0.0    0.0   2.0   \n",
      "2350   0.0  0.0   0.0  ...    0.0      0.0   0.0   0.0     0.0    0.0   0.0   \n",
      "2351   0.0  0.0   0.0  ...    0.0      0.0   0.0   0.0     0.0    0.0   0.0   \n",
      "\n",
      "      IGHJ6  STK11  GRIN2A  \n",
      "0       0.0    0.0     0.0  \n",
      "1       0.0    0.0     0.0  \n",
      "2       0.0    0.0     0.0  \n",
      "3       0.0    0.0     0.0  \n",
      "4       0.0    0.0     0.0  \n",
      "...     ...    ...     ...  \n",
      "2347    0.0    0.0     0.0  \n",
      "2348    0.0    0.0     0.0  \n",
      "2349    0.0    0.0     0.0  \n",
      "2350    0.0    0.0     0.0  \n",
      "2351    0.0    0.0     0.0  \n",
      "\n",
      "[2352 rows x 466 columns]\n"
     ]
    }
   ],
   "source": [
    "# Print data\n",
    "print(dummy_variables)"
   ]
  },
  {
   "cell_type": "code",
   "execution_count": 4,
   "metadata": {},
   "outputs": [],
   "source": [
    "# Remove unnecessary columns\n",
    "dummy_variables = dummy_variables.loc[:, dummy_variables.columns != \"Unnamed: 0\"]\n",
    "dummy_variables = dummy_variables.loc[:, dummy_variables.columns != \"Standardized\"]"
   ]
  },
  {
   "cell_type": "code",
   "execution_count": 5,
   "metadata": {},
   "outputs": [],
   "source": [
    "# Isolate sample IDs\n",
    "sample_ids = dummy_variables[\"Sample ID\"]"
   ]
  },
  {
   "cell_type": "code",
   "execution_count": 6,
   "metadata": {},
   "outputs": [],
   "source": [
    "# Isolate mutations\n",
    "mutations = dummy_variables.values.tolist()\n",
    "df = pd.DataFrame(mutations, index = sample_ids)"
   ]
  },
  {
   "cell_type": "code",
   "execution_count": 7,
   "metadata": {},
   "outputs": [],
   "source": [
    "# Isolate genes\n",
    "genes = list(dummy_variables.head(1))[1:-1]"
   ]
  },
  {
   "cell_type": "code",
   "execution_count": 8,
   "metadata": {},
   "outputs": [
    {
     "name": "stdout",
     "output_type": "stream",
     "text": [
      "{'Mantle Cell Lymphoma': 259, 'Primary DLBCL of the central nervous system': 541, 'Follicular Lymphoma': 454}\n"
     ]
    },
    {
     "name": "stderr",
     "output_type": "stream",
     "text": [
      "/var/folders/b7/ppmcfqq90vgdx0fr1q31fm4w0000gn/T/ipykernel_12851/2494986566.py:6: FutureWarning: Dropping of nuisance columns in DataFrame reductions (with 'numeric_only=None') is deprecated; in a future version this will raise TypeError.  Select only valid columns before calling the reduction.\n",
      "  new_dummy['Number of Mutated Genes'] = new_dummy.iloc[:, 1:].sum(axis=1)\n",
      "/var/folders/b7/ppmcfqq90vgdx0fr1q31fm4w0000gn/T/ipykernel_12851/2494986566.py:6: FutureWarning: Dropping of nuisance columns in DataFrame reductions (with 'numeric_only=None') is deprecated; in a future version this will raise TypeError.  Select only valid columns before calling the reduction.\n",
      "  new_dummy['Number of Mutated Genes'] = new_dummy.iloc[:, 1:].sum(axis=1)\n",
      "/var/folders/b7/ppmcfqq90vgdx0fr1q31fm4w0000gn/T/ipykernel_12851/2494986566.py:6: FutureWarning: Dropping of nuisance columns in DataFrame reductions (with 'numeric_only=None') is deprecated; in a future version this will raise TypeError.  Select only valid columns before calling the reduction.\n",
      "  new_dummy['Number of Mutated Genes'] = new_dummy.iloc[:, 1:].sum(axis=1)\n"
     ]
    }
   ],
   "source": [
    "# Get sum of mutations of each cancer type of interest\n",
    "types = [\"Mantle Cell Lymphoma\", \"Primary DLBCL of the central nervous system\", \"Follicular Lymphoma\"]\n",
    "counts = {}\n",
    "for type in types:\n",
    "    new_dummy = dummy_variables.drop(dummy_variables.index[(dummy_variables[\"Cancer Type Detailed\"] != type)], inplace = False)\n",
    "    new_dummy['Number of Mutated Genes'] = new_dummy.iloc[:, 1:].sum(axis=1)\n",
    "    count_type = new_dummy[\"KMT2D\"].count()\n",
    "    counts[type] = count_type\n",
    "print(counts)"
   ]
  },
  {
   "cell_type": "code",
   "execution_count": 28,
   "metadata": {},
   "outputs": [
    {
     "name": "stderr",
     "output_type": "stream",
     "text": [
      "/var/folders/b7/ppmcfqq90vgdx0fr1q31fm4w0000gn/T/ipykernel_12851/1133484774.py:10: FutureWarning: Dropping of nuisance columns in DataFrame reductions (with 'numeric_only=None') is deprecated; in a future version this will raise TypeError.  Select only valid columns before calling the reduction.\n",
      "  new_dummy['Number of Mutated Genes'] = new_dummy.iloc[:, 1:].sum(axis=1)\n",
      "/var/folders/b7/ppmcfqq90vgdx0fr1q31fm4w0000gn/T/ipykernel_12851/1133484774.py:10: FutureWarning: Dropping of nuisance columns in DataFrame reductions (with 'numeric_only=None') is deprecated; in a future version this will raise TypeError.  Select only valid columns before calling the reduction.\n",
      "  new_dummy['Number of Mutated Genes'] = new_dummy.iloc[:, 1:].sum(axis=1)\n",
      "/var/folders/b7/ppmcfqq90vgdx0fr1q31fm4w0000gn/T/ipykernel_12851/1133484774.py:10: FutureWarning: Dropping of nuisance columns in DataFrame reductions (with 'numeric_only=None') is deprecated; in a future version this will raise TypeError.  Select only valid columns before calling the reduction.\n",
      "  new_dummy['Number of Mutated Genes'] = new_dummy.iloc[:, 1:].sum(axis=1)\n"
     ]
    }
   ],
   "source": [
    "# Generate table of means # mutations for each cancer type\n",
    "#all_types = [\"Extraosseous Plasmacytoma\", \"Follicular Lymphoma\", \"Lymphoplasmacytic Lymphoma\", \"Mantle Cell Lymphoma\", \"Marginal Zone Lymphoma\",\n",
    "             #\"Mature B-Cell Neoplasms\", \"Nodal Marginal Zone Lymphoma\",\n",
    "             #\"Primary DLBCL of the central nervous system\", \"Primary Mediastinal Large B-Cell Lymphoma\", \"Splenic Marginal Zone Lymphoma\",\n",
    "             #\"Testicular Lymphoma\", \"Waldenstrom Macroglobulinemia\"]\n",
    "all_types = [\"Follicular Lymphoma\", \"Mantle Cell Lymphoma\", \"Primary DLBCL of the central nervous system\"]\n",
    "means = {}\n",
    "for type in all_types:\n",
    "    new_dummy = dummy_variables.drop(dummy_variables.index[(dummy_variables[\"Cancer Type Detailed\"] != type)], inplace = False)\n",
    "    new_dummy['Number of Mutated Genes'] = new_dummy.iloc[:, 1:].sum(axis=1)\n",
    "    mean_type = new_dummy[\"Number of Mutated Genes\"].mean()\n",
    "    means[type] = mean_type"
   ]
  },
  {
   "cell_type": "code",
   "execution_count": 29,
   "metadata": {},
   "outputs": [
    {
     "name": "stdout",
     "output_type": "stream",
     "text": [
      "                                                      0\n",
      "Follicular Lymphoma                           98.863436\n",
      "Mantle Cell Lymphoma                          18.420849\n",
      "Primary DLBCL of the central nervous system  333.874307\n"
     ]
    }
   ],
   "source": [
    "# Print means for each disease type in table format\n",
    "stat = pd.DataFrame.from_dict(means, orient='index')\n",
    "stat = stat.dropna()\n",
    "print(stat)"
   ]
  },
  {
   "cell_type": "code",
   "execution_count": 30,
   "metadata": {},
   "outputs": [
    {
     "name": "stdout",
     "output_type": "stream",
     "text": [
      "['FL', 'MCL', 'DLBCL']\n",
      "[98.86343612334802, 18.42084942084942, 333.8743068391867]\n"
     ]
    }
   ],
   "source": [
    "# Convert dictionary to lists for plotting\n",
    "#x_vals = ['EP', \"FL\", 'LL', \"MCL\", \"MZL\", \"MBN\", \"MBL\", \"NMZL\", \"NHL\", \"PL\", \"DLBCL\", \"SMZL\", \"TL\", \"WM\"]\n",
    "x_vals = []\n",
    "y_vals = []\n",
    "\n",
    "for key, value in means.items():\n",
    "    #if key != \"Primary Mediastinal Large B-Cell Lymphoma\":\n",
    "    x_vals.append(key)\n",
    "    y_vals.append(value)\n",
    "#wrapped_x = [ val.replace(' ', '\\n') for val in x_vals ]\n",
    "wrapped_x = [\"FL\", \"MCL\", \"DLBCL\"]\n",
    "print(wrapped_x)\n",
    "print(y_vals)"
   ]
  },
  {
   "cell_type": "code",
   "execution_count": 45,
   "metadata": {},
   "outputs": [
    {
     "data": {
      "text/plain": [
       "<ErrorbarContainer object of 3 artists>"
      ]
     },
     "execution_count": 45,
     "metadata": {},
     "output_type": "execute_result"
    },
    {
     "data": {
      "image/png": "[encoded data removed]",
      "text/plain": [
       "<Figure size 720x504 with 1 Axes>"
      ]
     },
     "metadata": {
      "needs_background": "light"
     },
     "output_type": "display_data"
    }
   ],
   "source": [
    "# Plot mean for each disease type\n",
    "plt.figure(figsize=(10, 7))\n",
    "plt.rc('xtick', labelsize = 13) \n",
    "plt.rc('ytick', labelsize = 13) \n",
    "plt.xlabel(\"B-Cell Lymphoma Subtype\")\n",
    "plt.ylabel(\"Average Number of Mutations\")\n",
    "plt.rc('axes', labelsize=13)    # fontsize of the x and y labels\n",
    "plt.bar(wrapped_x, y_vals)\n",
    "plt.errorbar(wrapped_x, y_vals, yerr=77.27104841069817, fmt=\"|\", color=\"black\")"
   ]
  },
  {
   "cell_type": "code",
   "execution_count": 16,
   "metadata": {},
   "outputs": [
    {
     "name": "stdout",
     "output_type": "stream",
     "text": [
      "{'Follicular Lymphoma': 9.0, 'Not Follicular Lymphoma': 394.0, 'Mantle Cell Lymphoma': 0.0, 'Not Mantle Cell Lymphoma': 216.0}\n"
     ]
    },
    {
     "name": "stderr",
     "output_type": "stream",
     "text": [
      "/var/folders/b7/ppmcfqq90vgdx0fr1q31fm4w0000gn/T/ipykernel_18430/1950996265.py:7: FutureWarning: Dropping of nuisance columns in DataFrame reductions (with 'numeric_only=None') is deprecated; in a future version this will raise TypeError.  Select only valid columns before calling the reduction.\n",
      "  notdisease1 = new_dummy.iloc[:, 1:].sum(axis=1).sum() - new_dummy[gene].sum()\n",
      "/var/folders/b7/ppmcfqq90vgdx0fr1q31fm4w0000gn/T/ipykernel_18430/1950996265.py:12: FutureWarning: Dropping of nuisance columns in DataFrame reductions (with 'numeric_only=None') is deprecated; in a future version this will raise TypeError.  Select only valid columns before calling the reduction.\n",
      "  notdisease2 = new_dummy.iloc[:, 1:].sum(axis=1).sum() - new_dummy[gene].sum()\n"
     ]
    }
   ],
   "source": [
    "# Calculate counts for Fisher's Exact Test setup\n",
    "def gather_counts(disease1, disease2, gene):\n",
    "    cts = {}\n",
    "    new_dummy = dummy_variables.drop(dummy_variables.index[(dummy_variables[\"Cancer Type Detailed\"] != disease1)], inplace = False)\n",
    "    cts[disease1] = new_dummy[gene].sum()\n",
    "    #new_dummy['Number of Mutated Genes'] = new_dummy.iloc[:, 1:].sum(axis=1)\n",
    "    notdisease1 = new_dummy.iloc[:, 1:].sum(axis=1).sum() - new_dummy[gene].sum()\n",
    "    cts[\"Not \" + disease1] = notdisease1\n",
    "\n",
    "    new_dummy = dummy_variables.drop(dummy_variables.index[(dummy_variables[\"Cancer Type Detailed\"] != disease2)], inplace = False)\n",
    "    cts[disease2] = new_dummy[gene].sum()\n",
    "    notdisease2 = new_dummy.iloc[:, 1:].sum(axis=1).sum() - new_dummy[gene].sum()\n",
    "    cts[\"Not \" + disease2] = notdisease2\n",
    "\n",
    "    return cts\n",
    "cts = gather_counts(\"Follicular Lymphoma\", \"Mantle Cell Lymphoma\", \"EZH2\")\n",
    "print(cts)"
   ]
  },
  {
   "cell_type": "code",
   "execution_count": 17,
   "metadata": {},
   "outputs": [
    {
     "name": "stdout",
     "output_type": "stream",
     "text": [
      "                              0\n",
      "Follicular Lymphoma         9.0\n",
      "Not Follicular Lymphoma   394.0\n",
      "Mantle Cell Lymphoma        0.0\n",
      "Not Mantle Cell Lymphoma  216.0\n"
     ]
    }
   ],
   "source": [
    "# Print Fisher's Exact Test setup values\n",
    "stat = pd.DataFrame.from_dict(cts, orient='index')\n",
    "stat = stat.dropna()\n",
    "print(stat)"
   ]
  },
  {
   "cell_type": "code",
   "execution_count": 20,
   "metadata": {},
   "outputs": [
    {
     "name": "stdout",
     "output_type": "stream",
     "text": [
      "[[9.0, 394.0], [0.0, 216.0]]\n",
      "0.020362571633290125\n"
     ]
    },
    {
     "name": "stderr",
     "output_type": "stream",
     "text": [
      "/var/folders/b7/ppmcfqq90vgdx0fr1q31fm4w0000gn/T/ipykernel_18430/3830608026.py:15: DeprecationWarning: Using factorial() with floats is deprecated\n",
      "  p_value_num = (math.factorial(sumd1) * math.factorial(sumd2) * math.factorial(mut) * math.factorial(notmut))\n",
      "/var/folders/b7/ppmcfqq90vgdx0fr1q31fm4w0000gn/T/ipykernel_18430/3830608026.py:16: DeprecationWarning: Using factorial() with floats is deprecated\n",
      "  indiv = math.factorial(d2) * math.factorial(notd2) * math.factorial(d1) * math.factorial(notd1)\n",
      "/var/folders/b7/ppmcfqq90vgdx0fr1q31fm4w0000gn/T/ipykernel_18430/3830608026.py:17: DeprecationWarning: Using factorial() with floats is deprecated\n",
      "  p_value_denom = (math.factorial(total)*indiv)\n"
     ]
    }
   ],
   "source": [
    "# Conduct Fisher's Exact Test: return p-value\n",
    "def fisher_exact(disease1, disease2):\n",
    "    d1 = cts[disease1]\n",
    "    d2 = cts[disease2]\n",
    "    notd1 = cts['Not ' + disease1]\n",
    "    notd2 = cts['Not ' + disease2]\n",
    "    sumd1 = d1 + notd1\n",
    "    sumd2 = d2 + notd2\n",
    "    mut = d1 + d2\n",
    "    notmut = notd1 + notd2\n",
    "    total = mut + notmut\n",
    "    data = [[float(d1), float(notd1)], [float(d2), float(notd2)]]\n",
    "    print(data)\n",
    "\n",
    "    p_value_num = (math.factorial(sumd1) * math.factorial(sumd2) * math.factorial(mut) * math.factorial(notmut))\n",
    "    indiv = math.factorial(d2) * math.factorial(notd2) * math.factorial(d1) * math.factorial(notd1)\n",
    "    p_value_denom = (math.factorial(total)*indiv)\n",
    "\n",
    "    p_value = p_value_num / p_value_denom\n",
    "    return p_value\n",
    "\n",
    "print(fisher_exact(\"Follicular Lymphoma\", \"Mantle Cell Lymphoma\"))"
   ]
  }
 ],
 "metadata": {
  "kernelspec": {
   "display_name": "base",
   "language": "python",
   "name": "python3"
  },
  "language_info": {
   "codemirror_mode": {
    "name": "ipython",
    "version": 3
   },
   "file_extension": ".py",
   "mimetype": "text/x-python",
   "name": "python",
   "nbconvert_exporter": "python",
   "pygments_lexer": "ipython3",
   "version": "3.9.12"
  },
  "orig_nbformat": 4,
  "vscode": {
   "interpreter": {
    "hash": "c3c4cfcc03484d22f0ed75b36ddcb5de5e3b75a67602c9848a3a1193319069b6"
   }
  }
 },
 "nbformat": 4,
 "nbformat_minor": 2
}
