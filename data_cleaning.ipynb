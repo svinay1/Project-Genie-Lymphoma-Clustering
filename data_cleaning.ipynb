{
 "cells": [
  {
   "cell_type": "code",
   "execution_count": 2,
   "metadata": {},
   "outputs": [],
   "source": [
    "# Import libraries\n",
    "import pandas as pd"
   ]
  },
  {
   "cell_type": "code",
   "execution_count": 4,
   "metadata": {},
   "outputs": [
    {
     "name": "stderr",
     "output_type": "stream",
     "text": [
      "/var/folders/b7/ppmcfqq90vgdx0fr1q31fm4w0000gn/T/ipykernel_22951/3390593622.py:2: DtypeWarning: Columns (22) have mixed types. Specify dtype option on import or set low_memory=False.\n",
      "  data = pd.read_csv('Data/genie_public_clinical_data_v13.csv')\n"
     ]
    }
   ],
   "source": [
    "# Initial data filtering\n",
    "data = pd.read_csv('Data/genie_public_clinical_data_v13.csv')\n",
    "#cancer_types = [\"Mature B-Cell Neoplasms\", \"Non-Hodgkin Lymphoma\", \"Blood Cancer, NOS\", \"Lymphatic Cancer, NOS\", \"B-Lymphoblastic Leukemia/Lymphoma\", \"T-Lymphoblastic Leukemia/Lymphoma\", \"Mature T and K Neoplasms\"]\n",
    "#data = data_unfiltered[(data_unfiltered['Cancer Type'] == 'Mature B-Cell Neoplasms') | (data_unfiltered['Cancer Type'] == 'Non-Hodgkin Lymphoma') | (data_unfiltered['Cancer Type'] == 'Blood Cancer, NOS') | (data_unfiltered['Cancer Type'] == 'B-Lymphoblastic Leukemia/Lymphoma') | (data_unfiltered['Cancer Type'] == 'Mature T and K Neoplasms') | (data_unfiltered['Cancer Type'] == 'T-Lymphoblastic Leukemia/Lymphoma') | (data_unfiltered['Cancer Type'] == 'Lymphatic Cancer, NOS')]\n",
    "data.drop(data.index[(data['Sample Type Detailed']).str.contains(\"Primary\") == False], inplace = True)"
   ]
  },
  {
   "cell_type": "code",
   "execution_count": 5,
   "metadata": {},
   "outputs": [],
   "source": [
    "# Data filtering continued\n",
    "keep_list = [\"Extraosseous Plasmacytoma\", \"Follicular Lymphoma\", \"Lymphoplasmacytic Lymphoma\", \"Mantle Cell Lymphoma\", \"Marginal Zone Lymphoma\",\n",
    "             \"Mature B-Cell Neoplasms\", \"Monoclonal B-Cell Lymphocytosis\", \"Nodal Marginal Zone Lymphoma\", \"Non-Hodgkin Lymphoma\", \"Plasmablastic Lymphoma\",\n",
    "             \"Primary DLBCL of the central nervous system\", \"Primary Mediastinal Large B-Cell Lymphoma\", \"Splenic Marginal Zone Lymphoma\",\n",
    "             \"Testicular Lymphoma\", \"Waldenstrom Macroglobulinemia\"]\n",
    "data_new = data[(data['Cancer Type Detailed'].isin(keep_list) == True) | (data[\"Cancer Type Detailed\"].str.contains(\"Burkitt\") == True) | (data[\"Cancer Type Detailed\"].str.contains(\"B-Cell\") == True) |\n",
    "                (data[\"Cancer Type Detailed\"].str.contains(\"Chronic Lymphocytic Leukemia\") == True) |\n",
    "                (data[\"Cancer Type Detailed\"].str.contains(\"MALT Lymphoma\") == True) | (data[\"Cancer Type Detailed\"].str.contains(\"Hairy Cell\") == True) |\n",
    "                (data[\"Cancer Type Detailed\"].str.contains(\"Primary Cutaneous\") == True)]\n",
    "data_new.to_csv('Data/primary_tumor_public_clinical_data_UPDATED.csv')"
   ]
  },
  {
   "cell_type": "code",
   "execution_count": 6,
   "metadata": {},
   "outputs": [],
   "source": [
    "# Method to calculate frequency\n",
    "def frequency(dataframe, column):\n",
    "    dictionary = {}\n",
    "    for item in dataframe[column]:\n",
    "        if item in dictionary:\n",
    "            dictionary[item] += 1\n",
    "        else:\n",
    "            dictionary[item] = 1\n",
    "    return dictionary"
   ]
  },
  {
   "cell_type": "code",
   "execution_count": 7,
   "metadata": {},
   "outputs": [
    {
     "name": "stdout",
     "output_type": "stream",
     "text": [
      "Cancer Frequency (for detailed types): {'Medulloblastoma': 288, 'Low-Grade Glioma': 312, 'High-Grade Glioma': 400, 'Glioma': 160, 'Embryonal Rhabdomyosarcoma': 93, 'Ganglioglioma': 124, 'Atypical Teratoid/Rhabdoid Tumor': 35, 'Neuroblastoma': 380, 'B-Lymphoblastic Leukemia/Lymphoma': 339, 'Meningioma': 297, nan: 151, 'Pineoblastoma': 25, 'Dysembryoplastic Neuroepithelial Tumor': 42, 'Ependymoma': 142, 'Osteosarcoma': 198, 'Hepatoblastoma': 47, 'Ewing Sarcoma': 196, 'Acute Myeloid Leukemia': 866, 'Monomorphic PTLD (B- and T-/NK-cell types)': 1, 'Mature B-Cell Neoplasms': 177, 'Myeloid Leukemia Associated with Down Syndrome': 1, 'Papillary Thyroid Cancer': 723, 'Pleuropulmonary Blastoma': 6, 'Acute Myelomonocytic Leukemia': 13, 'Acute Monoblastic/Monocytic Leukemia': 37, 'Choroid Plexus Papilloma': 18, 'Burkitt Lymphoma': 21, 'Rhabdomyosarcoma': 68, 'Chronic Myelogenous Leukemia': 76, 'T-Lymphoblastic Leukemia/Lymphoma': 64, 'Craniopharyngioma': 33, 'Hodgkin Lymphoma': 18, 'Nodular Sclerosis Classical Hodgkin Lymphoma': 7, 'Choroid Plexus Carcinoma': 13, 'Chordoma': 51, 'Posttransplant Lymphoproliferative Disorders': 3, 'Mixed Germ Cell Tumor': 242, 'Neurofibroma': 48, 'Langerhans Cell Histiocytosis': 113, 'Histiocytic and Dendritic Cell Neoplasms': 44, 'Follicular Thyroid Cancer': 67, 'Sarcoma': 421, 'Medulloepithelioma': 5, 'Diffuse Intrinsic Pontine Glioma': 120, \"Wilms' Tumor\": 148, 'Undifferentiated Embryonal Sarcoma of the Liver': 8, 'Burkitt-Like Lymphoma with 11q Aberration': 2, 'Schwannoma': 76, 'Infantile Fibrosarcoma': 4, 'Inflammatory Myofibroblastic Tumor': 29, 'Acute Megakaryoblastic Leukemia': 2, 'B-Lymphoblastic Leukemia/Lymphoma with iAMP21': 1, 'Teratoma': 11, 'AML': 40, 'Ganglioneuroblastoma': 31, 'Sinonasal Adenocarcinoma': 7, 'Sertoli-Leydig Cell Tumor': 27, 'Immature Teratoma': 33, 'B-Lymphoblastic Leukemia/Lymphoma with Hyperdiploidy': 3, ' NOS': 1056, 'Disseminated Juvenile Xanthogranuloma': 3, 'Angiomatoid Fibrous Histiocytoma': 11, 'Dysgerminoma': 15, 'Undifferentiated Pleomorphic Sarcoma/Malignant Fibrous Histiocytoma/High-Grade Spindle Cell Sarcoma': 267, 'Anaplastic Large Cell Lymphoma': 26, 'Granular Cell Tumor': 8, 'Nodal Marginal Zone Lymphoma': 3, 'Anaplastic Ependymoma': 102, 'Pancreatoblastoma': 8, 'Synovial Sarcoma': 141, 'Yolk Sac Tumor': 45, 'Papillary Glioneuronal Tumor': 4, 'Mucoepidermoid Carcinoma': 45, 'Hemangioblastoma': 29, 'Pancreatic Adenocarcinoma': 3242, 'Intrahepatic Cholangiocarcinoma': 716, 'Esophageal Adenocarcinoma': 959, 'Esophagogastric Adenocarcinoma': 346, 'Diffuse Glioma': 367, 'Breast Angiosarcoma': 34, 'Fibrosarcoma': 14, 'Head and Neck Squamous Cell Carcinoma': 317, 'Subependymoma': 16, 'Breast Invasive Ductal Carcinoma': 6254, 'Leiomyosarcoma': 310, 'Hepatocellular Carcinoma plus Intrahepatic Cholangiocarcinoma': 50, 'Cholangiocarcinoma': 387, 'Dedifferentiated Chordoma': 1, 'Invasive Breast Carcinoma': 528, 'Solid Papillary Carcinoma of the Breast': 18, 'Endometrial Stromal Sarcoma': 14, 'Colon Adenocarcinoma': 5578, 'Glioblastoma Multiforme': 2425, 'Anorectal Mucosal Melanoma': 94, 'Cancer of Unknown Primary': 166, 'Duodenal Adenocarcinoma': 120, 'Renal Cell Carcinoma': 265, 'Sarcomatoid Carcinoma of the Urinary Bladder': 8, 'Urethral Urothelial Carcinoma': 52, 'Anaplastic Meningioma': 46, 'Gallbladder Adenocarcinoma': 106, ' Non-Melanoma': 610, 'Bladder Urothelial Carcinoma': 2564, 'Undifferentiated Carcinoma of the Pancreas': 39, 'Upper Tract Urothelial Carcinoma': 450, 'Adenosquamous Carcinoma of the Pancreas': 77, 'Melanoma': 1055, 'Stomach Adenocarcinoma': 775, 'Diffuse Astrocytoma': 254, 'Breast Invasive Carcinoma': 87, 'Clear Cell Sarcoma': 29, 'Lung Adenocarcinoma': 9998, 'Rectal Adenocarcinoma': 1837, 'Cutaneous Melanoma': 708, 'Lung Adenocarcinoma In Situ': 28, 'Desmoplastic Melanoma': 24, 'Non-Small Cell Lung Cancer': 748, 'Gastrointestinal Stromal Tumor': 1019, 'Poorly Differentiated Non-Small Cell Lung Cancer': 143, 'Colorectal Adenocarcinoma': 1787, 'Mucinous Adenocarcinoma of the Colon and Rectum': 212, 'Hurthle Cell Thyroid Cancer': 48, 'Hepatocellular Carcinoma': 493, 'Glioblastoma': 1807, 'Pilocytic Astrocytoma': 329, 'Signet Ring Cell Adenocarcinoma of the Colon and Rectum': 52, 'Giant Cell Tumor of Bone': 11, 'Intimal Sarcoma': 27, 'Conjunctival Melanoma': 17, 'Follicular Lymphoma': 454, 'Ocular Melanoma': 31, 'Ampullary Carcinoma': 137, 'Poorly Differentiated Thyroid Cancer': 149, 'Pleomorphic Carcinoma of the Lung': 66, 'Lung Neuroendocrine Tumor': 40, 'High-Grade Neuroendocrine Carcinoma of the Colon and Rectum': 89, 'Sarcomatoid Carcinoma of the Lung': 59, 'Large Cell Lung Carcinoma': 24, 'Mucosal Melanoma of the Vulva/Vagina': 67, 'Gastrointestinal Neuroendocrine Tumors': 123, 'Oncocytic Adenoma of the Thyroid': 2, 'Lung Adenosquamous Carcinoma': 113, 'Angioimmunoblastic T-Cell Lymphoma': 81, 'Tubular Adenoma of the Colon': 30, 'Pancreatic Neuroendocrine Tumor': 290, 'Hepatocellular Adenoma': 6, 'Lung Squamous Cell Carcinoma': 1416, 'Adenocarcinoma of the Gastroesophageal Junction': 503, 'Intestinal Ampullary Carcinoma': 20, 'Small Intestinal Carcinoma': 48, 'Pancreatobiliary Ampullary Carcinoma': 56, 'Adrenocortical Carcinoma': 131, 'Anaplastic Astrocytoma': 596, 'Plasma Cell Myeloma': 208, 'Acinar Cell Carcinoma of the Pancreas': 43, 'Hairy Cell Leukemia': 33, 'Astrocytoma': 491, 'Epithelioid Sarcoma': 38, 'Head and Neck Carcinoma': 31, 'Atypical Lipomatous Tumor': 11, 'Peripheral T-Cell lymphoma': 131, 'Angiosarcoma': 145, 'Combined Small Cell Lung Carcinoma': 50, 'Adenocarcinoma': 118, 'Hemangiopericytoma of the Central Nervous System': 9, 'Spindle Cell Rhabdomyosarcoma': 17, 'Primary DLBCL of the central nervous system': 541, 'Oral Cavity Squamous Cell Carcinoma': 365, 'Small Bowel Cancer': 127, 'Renal Clear Cell Carcinoma': 760, 'Adenoid Cystic Carcinoma of the Lung': 14, 'High-Grade Endometrial Stromal Sarcoma': 17, 'Dedifferentiated Liposarcoma': 244, 'Prostate Adenocarcinoma': 3076, 'Squamous Cell Carcinoma': 72, 'Myelodysplastic Syndromes': 335, 'Perivascular Epithelioid Cell Tumor': 43, 'Small Cell Lung Cancer': 314, 'Spindle Cell Carcinoma of the Lung': 12, 'Pleural Mesothelioma': 644, 'Large Cell Neuroendocrine Carcinoma': 115, 'High-Grade Neuroendocrine Carcinoma of the Esophagus': 3, 'Well-Differentiated Neuroendocrine Tumor of the Rectum': 22, 'Colonic Type Adenocarcinoma of the Appendix': 3, 'Uterine Sarcoma/Mesenchymal': 33, 'Small Bowel Well-Differentiated Neuroendocrine Tumor': 117, 'Extrahepatic Cholangiocarcinoma': 128, 'Urothelial Papilloma': 7, 'Myxoid/Round-Cell Liposarcoma': 66, 'Pituitary Adenoma': 205, 'Esophageal Squamous Cell Carcinoma': 239, 'Pleomorphic Liposarcoma': 37, 'Uveal Melanoma': 152, 'Malignant Peripheral Nerve Sheath Tumor': 111, 'Neuroendocrine Carcinoma': 70, 'Low-grade Appendiceal Mucinous Neoplasm': 7, 'Neuroendocrine Tumor': 51, 'Chromophobe Renal Cell Carcinoma': 86, 'Non-Hodgkin Lymphoma': 29, 'Uterine Leiomyosarcoma': 172, 'Appendiceal Adenocarcinoma': 127, 'Round Cell Sarcoma': 37, 'Erdheim-Chester Disease': 78, 'Liposarcoma': 61, 'Bladder Adenocarcinoma': 63, 'Oligodendroglioma': 360, 'Giant Cell Carcinoma of the Lung': 7, 'Desmoid/Aggressive Fibromatosis': 141, 'Anaplastic Oligodendroglioma': 212, 'Alveolar Soft Part Sarcoma': 17, 'Atypical Meningioma': 143, 'Mantle Cell Lymphoma': 259, 'Low-Grade Neuroepithelial Tumor': 20, 'Rosette-forming Glioneuronal Tumor of the Fourth Ventricle': 24, 'Adenosquamous Carcinoma of the Tongue': 2, 'Mucinous Ovarian Cancer': 108, 'Follicular T-Cell Lymphoma': 2, 'Basal Cell Adenocarcinoma': 2, 'Medullary Thyroid Cancer': 106, 'Breast Neoplasm': 17, 'Anaplastic Thyroid Cancer': 159, 'Pleomorphic Xanthoastrocytoma': 38, 'Mast Cell Leukemia': 1, 'Anal Squamous Cell Carcinoma': 200, 'Melanotic Schwannoma': 8, 'Head and Neck Mucosal Melanoma': 79, 'Malignant Lymphoma': 15, 'Well-Differentiated Thyroid Cancer': 5, 'Parathyroid Cancer': 2, 'Clear Cell Sarcoma of Kidney': 5, 'Ganglioneuroma': 5, 'Solid Pseudopapillary Neoplasm of the Pancreas': 13, 'Chronic Lymphocytic Leukemia/Small Lymphocytic Lymphoma': 629, 'Metaplastic Breast Cancer': 56, 'Pineal Tumor': 11, 'Mucosal Melanoma of the Esophagus': 5, 'Peritoneal Mesothelioma': 110, 'Pheochromocytoma': 24, 'Goblet Cell Carcinoid of the Appendix': 61, 'Chondrosarcoma': 99, 'Solitary Fibrous Tumor/Hemangiopericytoma': 88, 'Acral Melanoma': 74, 'Breast Mixed Ductal and Lobular Carcinoma': 473, 'Breast Invasive Lobular Carcinoma': 847, 'Breast Invasive Mixed Mucinous Carcinoma': 44, 'Clear Cell Ovarian Cancer': 234, 'Renal Small Cell Carcinoma': 3, 'Mycosis Fungoides': 85, 'Papillary Renal Cell Carcinoma': 150, 'High-Grade Serous Ovarian Cancer': 1287, 'Uterine Endometrioid Carcinoma': 1958, 'Adenoid Cystic Carcinoma': 185, 'Anaplastic Oligoastrocytoma': 41, 'Lung Carcinoid': 158, 'Oligoastrocytoma': 21, 'Bladder Squamous Cell Carcinoma': 42, 'Inflammatory Myofibroblastic Lung Tumor': 3, 'Uterine Neuroendocrine Carcinoma': 13, 'Renal Oncocytoma': 47, 'Uterine Leiomyoma': 6, 'Oropharynx Squamous Cell Carcinoma': 199, 'Serous Borderline Ovarian Tumor': 62, 'Uterine Serous Carcinoma/Uterine Papillary Serous Carcinoma': 659, 'Breast Ductal Carcinoma In Situ': 49, 'Endometrial Carcinoma': 352, 'Gallbladder Cancer': 133, 'Uterine Carcinosarcoma/Uterine Malignant Mixed Mullerian Tumor': 413, 'Cervical Endometrioid Carcinoma': 8, 'Uterine Sarcoma': 23, 'Low-Grade Serous Ovarian Cancer': 122, 'Desmoplastic/Nodular Medulloblastoma': 22, 'Myxofibrosarcoma': 90, 'Paraganglioma': 39, 'Signet Ring Cell Carcinoma of the Stomach': 79, 'Uterine Myxoid Leiomyosarcoma': 8, 'Myeloproliferative Neoplasms': 267, 'Signet Ring Cell Type of the Appendix': 12, 'Intraductal Papillary Mucinous Neoplasm': 28, 'Central Neurocytoma': 13, 'Undifferentiated Stomach Adenocarcinoma': 5, 'Waldenstrom Macroglobulinemia': 14, 'Ovarian Cancer': 25, 'Marginal Zone Lymphoma': 64, 'Seminoma': 119, 'Hemangioma': 186, 'Uterine Undifferentiated Carcinoma': 27, 'Small Cell Glioblastoma': 8, 'Proximal-Type Epithelioid Sarcoma': 7, 'Well-Differentiated Liposarcoma': 75, 'Head and Neck Squamous Cell Carcinoma of Unknown Primary': 7, 'Papillary Stomach Adenocarcinoma': 2, 'Ovarian Carcinosarcoma/Malignant Mixed Mesodermal Tumor': 116, 'Uterine Clear Cell Carcinoma': 102, 'Cervical Squamous Cell Carcinoma': 216, 'Endometrioid Ovarian Cancer': 192, 'Myxopapillary Ependymoma': 10, 'Squamous Cell Carcinoma of the Vulva/Vagina': 102, 'Adrenocortical Adenoma': 21, 'Endocervical Adenocarcinoma': 113, 'Granulosa Cell Tumor': 72, 'Malignant Phyllodes Tumor of the Breast': 27, 'Undifferentiated Malignant Neoplasm': 92, 'Uterine Mixed Endometrial Carcinoma': 114, 'Unclassified Renal Cell Carcinoma': 122, 'Mature Teratoma': 24, 'Nasopharyngeal Carcinoma': 37, 'Diffuse Type Stomach Adenocarcinoma': 57, 'Adenoid Cystic Breast Cancer': 8, 'Myxoma': 13, 'Ovarian Epithelial Tumor': 68, 'Thymoma': 65, 'Uterine Smooth Muscle Tumor of Uncertain Malignant Potential': 9, 'Atypical Lung Carcinoid': 67, 'Hypopharynx Squamous Cell Carcinoma': 20, 'Sarcomatoid Renal Cell Carcinoma': 21, 'Mature T and NK Neoplasms': 43, 'Large Cell/Anaplastic Medulloblastoma': 15, 'Intestinal Type Stomach Adenocarcinoma': 41, 'Other Uterine Tumor': 8, 'Renal Non-Clear Cell Carcinoma': 28, 'Salivary Duct Carcinoma': 72, 'Larynx Squamous Cell Carcinoma': 74, 'Renal Angiomyolipoma': 23, 'Primary Brain Tumor': 47, 'Gliosarcoma': 102, 'Serous Ovarian Cancer': 200, 'Miscellaneous Neuroepithelial Tumor': 30, 'Collecting Duct Renal Cell Carcinoma': 15, 'Olfactory Neuroblastoma': 15, 'Primitive Neuroectodermal Tumor': 24, 'Testicular Lymphoma': 2, 'Germinoma': 14, 'Angiocentric Glioma': 12, 'Poorly Differentiated Carcinoma': 89, 'Uterine Adenosarcoma': 41, 'Acinic Cell Carcinoma': 27, 'Low-Grade Endometrial Stromal Sarcoma': 10, 'Myoepithelial Carcinoma': 17, 'Cervical Adenosquamous Carcinoma': 25, 'Sinonasal Squamous Cell Carcinoma': 34, 'Plasmacytoid/Signet Ring Cell Bladder Carcinoma': 16, 'Mixed Ovarian Carcinoma': 54, 'Histiocytic Dendritic Cell Sarcoma': 15, 'Soft Tissue Myoepithelial Carcinoma': 13, 'Small Cell Bladder Cancer': 42, 'Mucinous Borderline Ovarian Tumor': 24, 'Sex Cord Stromal Tumor': 22, 'Epithelial-Myoepithelial Carcinoma': 7, 'Poorly Differentiated Carcinoma of the Stomach': 105, 'Epithelioid Hemangioendothelioma': 48, 'Small Cell Carcinoma of the Ovary': 21, 'NUT Midline Carcinoma of the Head and Neck': 11, 'Pituicytoma': 2, 'Penile Squamous Cell Carcinoma': 25, 'Mucinous Adenocarcinoma of the Appendix': 103, 'Tenosynovial Giant Cell Tumor Diffuse Type': 5, 'Ovarian Seromucinous Borderline Tumor': 3, 'Translocation-Associated Renal Cell Carcinoma': 27, 'Embryonal Carcinoma': 24, 'Essential Thrombocythemia': 58, 'Fibrolamellar Carcinoma': 32, 'Pilomyxoid Astrocytoma': 19, 'High-Grade Neuroepithelial Tumor': 51, 'Spindle Cell Oncocytoma of the Adenohypophysis': 1, 'Radiation-Associated Sarcoma': 26, 'Extraskeletal Myxoid Chondrosarcoma': 12, 'Pleomorphic Rhabdomyosarcoma': 21, 'Thymic Carcinoma': 43, 'Mammary Analogue Secretory Carcinoma of Salivary Gland Origin': 7, 'Salivary Carcinoma': 58, 'Gastric Type Mucinous Carcinoma': 28, 'Pineal Parenchymal Tumor of Intermediate Differentiation': 10, 'Primary Mediastinal (Thymic) Large B-Cell Lymphoma': 21, 'Hyalinizing Trabecular Adenoma of the Thyroid': 1, 'Primary Myelofibrosis': 116, 'Sinonasal Undifferentiated Carcinoma': 17, 'Uterine Dedifferentiated Carcinoma': 23, 'Head and Neck Neuroendocrine Carcinoma': 15, 'Small Cell Carcinoma of Unknown Primary': 9, 'Dedifferentiated Chondrosarcoma': 20, 'Retinoblastoma': 116, 'Epithelioid Trophoblastic Tumor': 8, 'Follicular Dendritic Cell Sarcoma': 14, 'Breast Carcinoma with Signet Ring': 2, 'Prostate Squamous Cell Carcinoma': 2, 'Thymic Neuroendocrine Tumor': 10, 'Mesonephric Carcinoma': 8, 'Solitary Fibrous Tumor of the Central Nervous System': 12, 'Tubular Stomach Adenocarcinoma': 23, 'Atypical Pituitary Adenoma': 4, 'Germ Cell Tumor': 9, 'Rhabdoid Cancer': 9, 'Adenosquamous Carcinoma of the Stomach': 2, 'Carcinoma with Chondroid Metaplasia': 1, 'Low-Grade Fibromyxoid Sarcoma': 15, 'Anaplastic Ganglioglioma': 9, 'Urachal Carcinoma': 4, 'Cervical Adenocarcinoma': 40, 'Paget Disease of the Nipple': 1, 'Polycythemia Vera': 76, 'Non-Seminomatous Germ Cell Tumor': 37, 'Rhabdoid Meningioma': 2, 'Esophageal Poorly Differentiated Carcinoma': 47, 'Prostate Neuroendocrine Carcinoma': 16, 'Breast Invasive Carcinosarcoma': 3, 'Sezary Syndrome': 13, 'Uterine Epithelioid Leiomyosarcoma': 8, 'Small Cell Carcinoma of the Cervix': 14, 'Blastic Plasmacytoid Dendritic Cell Neoplasm': 18, 'Ovarian Seromucinous Carcinoma': 5, 'Undifferentiated Uterine Sarcoma': 8, 'Breast Sarcoma': 8, 'Gangliocytoma': 5, 'Congenital Nevus': 4, 'Meningothelial Tumor': 9, 'Breast Invasive Cancer': 101, 'Mucosal Melanoma of the Urethra': 10, 'T-Cell Large Granular Lymphocytic Leukemia': 29, 'Alveolar Rhabdomyosarcoma': 35, 'Mucinous Stomach Adenocarcinoma': 7, 'Desmoplastic Small-Round-Cell Tumor': 66, 'Urethral Squamous Cell Carcinoma': 10, 'Extranodal Marginal Zone Lymphoma of Mucosa-Associated Lymphoid Tissue (MALT lymphoma)': 40, 'Urethral Adenocarcinoma': 10, 'Embryonal Tumor': 32, 'Complete Hydatidiform Mole': 1, 'Salivary Adenocarcinoma': 21, 'Urachal Adenocarcinoma': 11, 'Gestational Trophoblastic Disease': 4, 'Clear Cell Papillary Renal Cell Carcinoma': 14, 'Conventional Type Chordoma': 6, 'Ependymomal Tumor': 4, 'Chronic Myelomonocytic Leukemia': 45, 'Nerve Sheath Tumor': 7, 'Germ Cell Tumor with Somatic-Type Malignancy': 10, 'Rosai-Dorfman Disease': 42, 'Nodular Lymphocyte-Predominant Hodgkin Lymphoma': 14, 'Prostate Small Cell Carcinoma': 34, 'Renal Clear Cell Carcinoma with Sarcomatoid Features': 15, 'Miscellaneous Brain Tumor': 22, 'Adenomyoepithelioma of the Breast': 4, 'Sclerosing Epithelioid Fibrosarcoma': 13, 'Well-Differentiated Neuroendocrine Tumor of the Appendix': 17, 'Liver Angiosarcoma': 6, 'Testicular Mesothelioma': 7, 'Cervical Clear Cell Carcinoma': 13, 'Classical Hodgkin Lymphoma': 47, 'Medullary Carcinoma of the Colon': 22, 'Splenic Marginal Zone Lymphoma': 9, 'Small Cell Carcinoma of the Stomach': 5, 'Choroid Plexus Tumor': 7, 'Metaplastic Squamous Cell Carcinoma': 4, 'Cervical Rhabdomyosarcoma': 3, 'Mesenchymal Chondrosarcoma': 6, 'Thymic Epithelial Tumor': 2, 'Myofibroma': 12, 'Cervical Neuroendocrine Tumor': 15, 'Uterine Perivascular Epithelioid Cell Tumor': 13, 'Uterine Adenosquamous Carcinoma': 5, 'Chondroblastoma': 2, 'Osteoblastic Osteosarcoma': 31, 'Atypical Choroid Plexus Papilloma': 11, 'Choriocarcinoma': 12, 'Cervical Adenoid Cystic Carcinoma': 2, 'Encapsulated Glioma': 33, 'Poorly Differentiated Carcinoma of the Uterus': 12, 'Metaplastic Carcinosarcoma': 3, 'Perihilar Cholangiocarcinoma': 24, 'Uterine Mucinous Carcinoma': 3, 'High-Grade Neuroendocrine Carcinoma of the Ovary': 6, 'Mucinous Carcinoma': 8, 'Urethral Cancer': 7, 'Mixed Ampullary Carcinoma': 9, 'Chondroblastic Osteosarcoma': 11, 'Clear cell Meningioma': 5, 'Uterine Smooth Muscle Tumor': 2, 'Basaloid Penile Squamous Cell Carcinoma': 4, 'Mixed Type Metaplastic Breast Cancer': 8, 'Inflammatory Breast Cancer': 6, 'Renal Medullary Carcinoma': 30, 'High-Grade Serous Fallopian Tube Cancer': 103, 'Ovarian Germ Cell Tumor': 2, 'Malignant Tumor': 18, 'Colon Adenocarcinoma In Situ': 9, 'Acinar Cell Carcinoma': 7, 'Vaginal Adenocarcinoma': 11, 'Endometrioid Borderlin Ovarian Tumor': 1, 'Papillary Tumor of the Pineal Region': 5, 'Primary Neuroepithelial Tumor': 11, 'Lentigo Maligna Melanoma': 18, 'Desmoplastic Infantile Ganglioglioma': 9, 'Cellular Schwannoma': 7, 'Well-Differentiated Neuroendocrine Tumors of the Stomach': 5, 'Sellar Tumor': 2, 'Mucinous Cystic Neoplasm': 6, 'Brenner Tumor': 3, 'Clear Cell Odontogenic Carcinoma': 2, 'Myxoid Chondrosarcoma': 6, 'Small Cell Osteosarcoma': 2, 'Renal Mucinous Tubular Spindle Cell Carcinoma': 5, 'Therapy-Related Myeloid Neoplasms': 22, 'Primary CNS Melanoma': 3, 'Therapy-Related Myelodysplastic Syndrome': 50, 'Systemic Mastocytosis': 20, 'Astroblastoma': 7, 'Extraventricular Neurocytoma': 2, 'Mixed Cervical Carcinoma': 7, 'Secondary Osteosarcoma': 2, 'FH-Deficient Renal Cell Carcinoma': 13, 'Basaloid Large Cell Carcinoma of the Lung': 1, 'MDS with excess blasts-2': 112, 'Anaplastic Large-Cell Lymphoma ALK Negative': 11, 'Anaplastic Pleomorphic Xanthoastrocytoma': 32, 'AML with t(9;11)(p21.3;q23.3);MLLT3-KMT2A': 2, 'AML with Myelodysplasia-Related Changes': 216, 'Extra Gonadal Germ Cell Tumor': 11, 'Anal Gland Adenocarcinoma': 6, 'Glomangiosarcoma': 1, 'MDS with excess blasts-1': 57, 'Serous Cystadenoma of the Pancreas': 2, 'Myelodysplastic/Myeloproliferative Neoplasms': 30, 'Myeloid Neoplasms with Germ Line Predisposition': 2, 'Therapy-Related Acute Myeloid Leukemia': 61, 'Polycythaemia Vera Myelofibrosis': 12, 'Chronic Myeloid Leukemia': 28, 'Ciliated Muconodular Papillary Tumor of the Lung': 4, 'MDS/MPN': 20, 'Fibrothecoma': 2, 'MDS with Excess Blasts': 12, 'Essential Thrombocythemia Myelofibrosis': 18, 'Phyllodes Tumor of the Breast': 7, 'Lymphoepithelioma-like Carcinoma of the Lung': 3, 'MDS with Ring Sideroblasts and Multilineage Dysplasia': 15, 'MDS with Isolated Del(5q)': 6, 'Uterine Mesonephric Carcinoma': 8, 'Systemic Mastocytosis with an Associated Hematological Neoplasm': 17, 'Chronic Myelomonocytic Leukemia-1': 27, 'Mixed Phenotype Acute Leukemia with t(9;22)(q34.1;q11.2); BCR-ABL1': 5, 'Fibroblastic Osteosarcoma': 2, 'Smooth Muscle Neoplasm': 7, 'Glassy Cell Carcinoma of the Cervix': 2, 'Melanoma of Unknown Primary': 4, 'MDS with Multilineage Dysplasia': 41, 'AML with Mutated NPM1': 84, 'Adenocarcinoma In Situ': 3, 'Histiocytic Sarcoma': 5, 'B-Lymphoblastic Leukemia/Lymphoma with t(v;11q23.3);KMT2A Rearranged': 4, 'AML with Recurrent Genetic Abnormalities': 2, 'Poorly Differentiated Vaginal Carcinoma': 10, 'Myeloid Sarcoma': 14, 'Natural Killer (NK) Cell Lymphoblastic Leukemia/Lymphoma': 4, 'AML with inv(3)(q21.3q26.2) or t(3;3)(q21.3;q26.2); GATA2': 11, 'High-Grade Surface Osteosarcoma': 7, 'Inflammatory Myofibroblastic Bladder Tumor': 1, 'T-Cell/Histiocyte-Rich Large B-Cell Lymphoma': 6, 'Adamantinoma': 4, 'MDS with Single Lineage Dysplasia': 8, 'Lymphoplasmacytic Lymphoma': 34, 'EBV Positive DLBCL': 7, 'T-Cell Prolymphocytic Leukemia': 14, 'Mastocytosis': 1, 'Atypical Chronic Myeloid Leukemia': 1, 'Adult T-Cell Leukemia/Lymphoma': 9, 'Parathyroid Carcinoma': 21, 'Chronic Lymphoproliferative Disorder of NK Cells': 2, 'AML with t(8;21)(q22;q22.1);RUNX1-RUNX1T1': 18, 'Primary CNS Melanocytic Tumors': 2, 'AML with Biallelic Mutations of CEBPA': 9, 'MDS/MPN with Ring Sideroblasts and Thrombocytosis': 4, 'Adenosquamous Carcinoma of the Gallbladder': 8, 'Hairy Cell Leukemia-Variant': 1, 'AML with inv(16)(p13.1q22) or t(16;16)(p13.1;q22);CBFB-MYH11': 16, 'Parosteal Osteosarcoma': 3, 'Juvenile Myelomonocytic Leukemia': 5, 'MDS with Ring Sideroblasts': 8, 'Monoclonal B-Cell Lymphocytosis': 5, 'Chronic Myelomonocytic Leukemia-2': 5, 'Primary Cutaneous Gamma Delta T-Cell Lymphoma': 5, 'Primary Cutaneous CD8 Positive Aggressive Epidermotropic Cytotoxic T-Cell Lymphoma': 1, 'B-Lymphoblastic Leukemia/Lymphoma with t(12;21)(p13.2;q22.1); ETV6-RUNX1': 3, 'MDS with Ring Sideroblasts and Single Lineage Dysplasia': 7, 'Intestinal Type Mucinous Carcinoma': 1, 'High-Grade B-Cell Lymphoma': 26, 'B-Lymphoblastic Leukemia/Lymphoma with t(9;22)(q34.1;q11.2);BCR-ABL1': 23, 'APL with PML-RARA': 20, 'Pseudomyogenic Hemangioendothelioma': 4, 'Juvenile Secretory Carcinoma of the Breast': 1, 'Hepatosplenic T-cell Lymphoma': 4, 'Monomorphic Epitheliotropic Intestinal T-Cell Lymphoma': 7, 'Plasmablastic Lymphoma': 2, 'Melanocytoma': 2, 'Extraosseous Plasmacytoma': 3, 'AML with Mutated RUNX1': 6, 'Periosteal Osteosarcoma': 5, 'Leiomyoma': 9, 'Malignant Nonepithelial Tumor of the Liver': 2, 'B-Lymphoblastic Leukemia/Lymphoma with t(1;19)(q23;p13.3);TCF3-PBX1': 1, 'Myeloid/Lymphoid Neoplasms with FGFR1 Rearrangement': 2, 'Ewing Sarcoma of Soft Tissue': 8, 'AML with t(6;9)(p23;q34.1);DEK-NUP214': 6, 'Extranodal NK-/T-Cell Lymphoma': 8, 'Anaplastic Large-Cell Lymphoma ALK Positive': 5, 'Classical Hodgkin Lymphoma PTLD': 1, 'High-Grade Neuroendocrine Carcinoma of the Stomach': 5, 'Monoclonal Gammopathy of Undetermined Significance': 7, 'Spindle Cell/Sclerosing Rhabdomyosarcoma': 9, 'Chronic Myelomonocytic Leukemia-0': 11, 'Clear Cell Borderline Ovarian Tumor': 2, 'Mixed Cancer Types': 5, 'Inverted Urothelial Papilloma': 1, 'Papillary Meningioma': 1, 'Acute Leukemias of Ambiguous Lineage': 3, 'Primary Cutaneous CD4 Positive Small/Medium T-Cell Lymphoproliferative Disorder': 3, 'B-Lymphoblastic Leukemia/Lymphoma with Hypodiploidy': 2, 'Infectious Mononucleosis PTLD': 1, 'Metaplastic Adenosquamous Carcinoma': 3, 'Early T-Cell Precursor Lymphoblastic Leukemia': 1, 'Breast Implant-Associated Anaplastic Large-Cell Lymphoma': 3, 'Cervical Serous Carcinoma': 19, 'Chronic Eosinophilic Leukemia': 1, 'Pituitary Carcinoma': 4, 'Primary Cutaneous CD30 Positive T-Cell Lymphoproliferative Disorders': 3, 'Gastrointestinal Neuroendocrine Tumors of the Esophagus/Stomach': 4, 'Nodal Peripheral T-Cell Lymphoma with TFH Phenotype': 1, 'Osteoclastic Giant Cell Tumor': 2, 'Cervical Leiomyosarcoma': 1, 'Primary Cutaneous DLBCL': 2, 'Adenoid Cystic Carcinoma of the Lacrimal Gland': 1, 'Telangiectatic Osteosarcoma': 1, 'ALK Positive Large B-Cell Lymphoma': 1, 'Myopericytoma': 2, 'Cervical Adenocarcinoma In Situ': 2, 'Pleomorphic Adenoma': 1, 'Carcinoma ex Pleomorphic Adenoma': 4, 'Placental Site Trophoblastic Tumor': 1, 'Intravascular Large B-Cell Lymphoma': 1, 'Chordoid Meningioma': 3, 'Langerhans Cell Sarcoma': 1, 'NUT Carcinoma of the Lung': 2, 'Medulloblastoma with Extensive Nodularity': 3, 'Small Cell Gallbladder Carcinoma': 2, 'Activated B-cell Type': 2, 'Mucoepidermoid Carcinoma of the Lung': 7, 'Spitzoid Melanoma': 6, 'Interdigitating Dendritic Cell Sarcoma': 2, 'Metaplastic Adenocarcinoma with Spindle Cell Differentiation': 1, 'Ovarian Choriocarcinoma': 3, 'Signet Ring Mucinous Carcinoma': 1, 'Fibroblastic Reticular Cell Tumor': 1, 'Breast Lobular Carcinoma In Situ': 7, 'Chordoid Glioma of the Third Ventricle': 3, 'Embryonal Tumor with Abundant Neuropil and True Rosettes': 8, 'Clear Cell Ependymoma': 1, 'Malignant Rhabdoid Tumor of the Liver': 1, 'Breast Fibroepithelial Neoplasms': 4, 'Villoglandular Adenocarcinoma of the Cervix': 1, 'Dysplastic Gangliocytoma of the Cerebellum/Lhermitte-Duclos Disease': 1, 'AML with Maturation': 18, 'AML without Maturation': 18, 'AML with Minimal Differentiation': 4, 'Chronic Neutrophilic Leukemia': 3, 'MDS': 1, 'Acute Undifferentiated Leukemia': 1, 'Mixed Phenotype Acute Leukemia with t(v;11q23.3); KMT2A Rearranged': 1, 'AML with BCR-ABL1': 2, 'Myeloid/Lymphoid Neoplasms with PDGFRA Rearrangement': 1, 'Indolent Systemic Mastocytosis': 1, 'Pure Erythroid Leukemia': 1, 'Steroid Cell Tumor': 1, 'Salivary Gland-Type Tumor of the Lung': 3, 'Mast Cell Sarcoma': 1, 'Primary Cutaneous Follicle Center Lymphoma': 1}\n"
     ]
    }
   ],
   "source": [
    "# Count primary samples for each cancer type represented in dataset\n",
    "# Non-represented cancer types might don't have primary samples\n",
    "cancer_frequency = frequency(data, \"Cancer Type Detailed\")\n",
    "print(\"Cancer Frequency (for detailed types):\", cancer_frequency)"
   ]
  },
  {
   "cell_type": "code",
   "execution_count": 8,
   "metadata": {},
   "outputs": [],
   "source": [
    "# Filter data by Cancer Type Detailed\n",
    "data = data[(data['Cancer Type Detailed'] == 'Chronic Lymphocytic Leukemia/Small Lymphocytic Lymphoma') | (data['Cancer Type Detailed'] == 'Primary DLBCL of the central nervous system') | (data['Cancer Type Detailed'] == 'Mantle Cell Lymphoma') | (data['Cancer Type Detailed'] == 'Marginal Zone Lymphoma') | (data['Cancer Type Detailed'] == 'Non-Hodgkin Lymphoma') | (data['Cancer Type Detailed'] == 'Splenic Marginal Zone Lymphoma')]"
   ]
  },
  {
   "cell_type": "code",
   "execution_count": 9,
   "metadata": {},
   "outputs": [
    {
     "name": "stdout",
     "output_type": "stream",
     "text": [
      "Samples Frequency: {'Primary DLBCL of the central nervous system': 541, 'Non-Hodgkin Lymphoma': 29, 'Mantle Cell Lymphoma': 259, 'Chronic Lymphocytic Leukemia/Small Lymphocytic Lymphoma': 629, 'Marginal Zone Lymphoma': 64, 'Splenic Marginal Zone Lymphoma': 9}\n",
      "Total Frequency (Cancer Type Detailed):  1531\n"
     ]
    }
   ],
   "source": [
    "# Count samples for each cancer type detailed\n",
    "samples_frequency = frequency(data, \"Cancer Type Detailed\")\n",
    "print(\"Samples Frequency:\", samples_frequency)\n",
    "print(\"Total Frequency (Cancer Type Detailed): \", samples_frequency['Non-Hodgkin Lymphoma'] + samples_frequency['Mantle Cell Lymphoma'] + samples_frequency['Marginal Zone Lymphoma'] + samples_frequency['Splenic Marginal Zone Lymphoma'] + samples_frequency[\"Chronic Lymphocytic Leukemia/Small Lymphocytic Lymphoma\"] + samples_frequency[\"Primary DLBCL of the central nervous system\"])"
   ]
  },
  {
   "cell_type": "code",
   "execution_count": 10,
   "metadata": {},
   "outputs": [
    {
     "data": {
      "text/html": [
       "<div>\n",
       "<style scoped>\n",
       "    .dataframe tbody tr th:only-of-type {\n",
       "        vertical-align: middle;\n",
       "    }\n",
       "\n",
       "    .dataframe tbody tr th {\n",
       "        vertical-align: top;\n",
       "    }\n",
       "\n",
       "    .dataframe thead th {\n",
       "        text-align: right;\n",
       "    }\n",
       "</style>\n",
       "<table border=\"1\" class=\"dataframe\">\n",
       "  <thead>\n",
       "    <tr style=\"text-align: right;\">\n",
       "      <th></th>\n",
       "      <th>Cancer Type Detailed</th>\n",
       "      <th>Sex</th>\n",
       "      <th>Ethnicity Category</th>\n",
       "      <th>Primary Race</th>\n",
       "    </tr>\n",
       "  </thead>\n",
       "  <tbody>\n",
       "    <tr>\n",
       "      <th>1817</th>\n",
       "      <td>Primary DLBCL of the central nervous system</td>\n",
       "      <td>COLU-CCCP-V1</td>\n",
       "      <td>FALSE</td>\n",
       "      <td>DLBCLNOS</td>\n",
       "    </tr>\n",
       "    <tr>\n",
       "      <th>1830</th>\n",
       "      <td>Primary DLBCL of the central nervous system</td>\n",
       "      <td>COLU-CCCP-V1</td>\n",
       "      <td>FALSE</td>\n",
       "      <td>DLBCLNOS</td>\n",
       "    </tr>\n",
       "    <tr>\n",
       "      <th>1865</th>\n",
       "      <td>Primary DLBCL of the central nervous system</td>\n",
       "      <td>COLU-CCCP-V1</td>\n",
       "      <td>TRUE</td>\n",
       "      <td>DLBCLNOS</td>\n",
       "    </tr>\n",
       "    <tr>\n",
       "      <th>2391</th>\n",
       "      <td>Non-Hodgkin Lymphoma</td>\n",
       "      <td>Male</td>\n",
       "      <td>Unknown</td>\n",
       "      <td>Unknown</td>\n",
       "    </tr>\n",
       "    <tr>\n",
       "      <th>2855</th>\n",
       "      <td>Mantle Cell Lymphoma</td>\n",
       "      <td>Female</td>\n",
       "      <td>Non-Spanish/non-Hispanic</td>\n",
       "      <td>White</td>\n",
       "    </tr>\n",
       "    <tr>\n",
       "      <th>...</th>\n",
       "      <td>...</td>\n",
       "      <td>...</td>\n",
       "      <td>...</td>\n",
       "      <td>...</td>\n",
       "    </tr>\n",
       "    <tr>\n",
       "      <th>166147</th>\n",
       "      <td>Mantle Cell Lymphoma</td>\n",
       "      <td>Female</td>\n",
       "      <td>Non-Spanish/non-Hispanic</td>\n",
       "      <td>White</td>\n",
       "    </tr>\n",
       "    <tr>\n",
       "      <th>166163</th>\n",
       "      <td>Mantle Cell Lymphoma</td>\n",
       "      <td>Male</td>\n",
       "      <td>Non-Spanish/non-Hispanic</td>\n",
       "      <td>White</td>\n",
       "    </tr>\n",
       "    <tr>\n",
       "      <th>166843</th>\n",
       "      <td>Mantle Cell Lymphoma</td>\n",
       "      <td>Female</td>\n",
       "      <td>Non-Spanish/non-Hispanic</td>\n",
       "      <td>White</td>\n",
       "    </tr>\n",
       "    <tr>\n",
       "      <th>167208</th>\n",
       "      <td>Splenic Marginal Zone Lymphoma</td>\n",
       "      <td>Female</td>\n",
       "      <td>Non-Spanish/non-Hispanic</td>\n",
       "      <td>White</td>\n",
       "    </tr>\n",
       "    <tr>\n",
       "      <th>167346</th>\n",
       "      <td>Mantle Cell Lymphoma</td>\n",
       "      <td>Male</td>\n",
       "      <td>Non-Spanish/non-Hispanic</td>\n",
       "      <td>White</td>\n",
       "    </tr>\n",
       "  </tbody>\n",
       "</table>\n",
       "<p>1531 rows × 4 columns</p>\n",
       "</div>"
      ],
      "text/plain": [
       "                               Cancer Type Detailed           Sex  \\\n",
       "1817    Primary DLBCL of the central nervous system  COLU-CCCP-V1   \n",
       "1830    Primary DLBCL of the central nervous system  COLU-CCCP-V1   \n",
       "1865    Primary DLBCL of the central nervous system  COLU-CCCP-V1   \n",
       "2391                           Non-Hodgkin Lymphoma          Male   \n",
       "2855                           Mantle Cell Lymphoma        Female   \n",
       "...                                             ...           ...   \n",
       "166147                         Mantle Cell Lymphoma        Female   \n",
       "166163                         Mantle Cell Lymphoma          Male   \n",
       "166843                         Mantle Cell Lymphoma        Female   \n",
       "167208               Splenic Marginal Zone Lymphoma        Female   \n",
       "167346                         Mantle Cell Lymphoma          Male   \n",
       "\n",
       "              Ethnicity Category Primary Race  \n",
       "1817                       FALSE     DLBCLNOS  \n",
       "1830                       FALSE     DLBCLNOS  \n",
       "1865                        TRUE     DLBCLNOS  \n",
       "2391                     Unknown      Unknown  \n",
       "2855    Non-Spanish/non-Hispanic        White  \n",
       "...                          ...          ...  \n",
       "166147  Non-Spanish/non-Hispanic        White  \n",
       "166163  Non-Spanish/non-Hispanic        White  \n",
       "166843  Non-Spanish/non-Hispanic        White  \n",
       "167208  Non-Spanish/non-Hispanic        White  \n",
       "167346  Non-Spanish/non-Hispanic        White  \n",
       "\n",
       "[1531 rows x 4 columns]"
      ]
     },
     "execution_count": 10,
     "metadata": {},
     "output_type": "execute_result"
    }
   ],
   "source": [
    "# Print out data\n",
    "data[[\"Cancer Type Detailed\", \"Sex\", \"Ethnicity Category\", \"Primary Race\"]]"
   ]
  },
  {
   "cell_type": "code",
   "execution_count": 11,
   "metadata": {},
   "outputs": [],
   "source": [
    "# Isolate individual cancer detailed types\n",
    "non_mcl_vals = [\"Splenic Marginal Zone Lymphoma\", \"Marginal Zone Lymphoma\", \"Non-Hodgkin Lymphoma\", \"Chronic Lymphocytic Leukemia/Small Lymphocytic Lymphoma\", \"Primary DLBCL of the central nervous system\"]\n",
    "mcl_clinical = data[data[\"Cancer Type Detailed\"].isin(non_mcl_vals) == False]\n",
    "non_mzl_vals = [\"Splenic Marginal Zone Lymphoma\", \"Mantle Cell Lymphoma\", \"Non-Hodgkin Lymphoma\", \"Chronic Lymphocytic Leukemia/Small Lymphocytic Lymphoma\", \"Primary DLBCL of the central nervous system\"]\n",
    "mzl_clinical = data[data[\"Cancer Type Detailed\"].isin(non_mzl_vals) == False]\n",
    "non_smzl_vals = [\"Marginal Zone Lymphoma\", \"Mantle Cell Lymphoma\", \"Non-Hodgkin Lymphoma\", \"Chronic Lymphocytic Leukemia/Small Lymphocytic Lymphoma\", \"Primary DLBCL of the central nervous system\"]\n",
    "smzl_clinical = data[data[\"Cancer Type Detailed\"].isin(non_smzl_vals) == False]\n",
    "non_nhl_vals = [\"Marginal Zone Lymphoma\", \"Mantle Cell Lymphoma\", \"Splenic Marginal Zone Lymphoma\", \"Chronic Lymphocytic Leukemia/Small Lymphocytic Lymphoma\", \"Primary DLBCL of the central nervous system\"]\n",
    "nhl_clinical = data[data[\"Cancer Type Detailed\"].isin(non_nhl_vals) == False]\n",
    "non_cll_vals = [\"Marginal Zone Lymphoma\", \"Mantle Cell Lymphoma\", \"Splenic Marginal Zone Lymphoma\", \"Non-Hodgkin Lymphoma\",  \"Primary DLBCL of the central nervous system\"]\n",
    "cll_clinical = data[data[\"Cancer Type Detailed\"].isin(non_cll_vals) == False]\n",
    "non_dlbcl_vals = [\"Marginal Zone Lymphoma\", \"Mantle Cell Lymphoma\", \"Splenic Marginal Zone Lymphoma\", \"Non-Hodgkin Lymphoma\",  \"Chronic Lymphocytic Leukemia/Small Lymphocytic Lymphoma\"]\n",
    "dlbcl_clinical = data[data[\"Cancer Type Detailed\"].isin(non_dlbcl_vals) == False]"
   ]
  },
  {
   "cell_type": "code",
   "execution_count": 12,
   "metadata": {},
   "outputs": [
    {
     "name": "stdout",
     "output_type": "stream",
     "text": [
      "Sex Frequency Mantle Cell Lymphoma: {'Female': 10, 'Male': 30, 'Unknown': 219}\n",
      "Ethnicity Frequency Mantle Cell Lymphoma: {'Non-Spanish/non-Hispanic': 34, 'Spanish/Hispanic': 6, 'Unknown': 219}\n",
      "Race Frequency Mantle Cell Lymphoma: {'White': 38, 'Unknown': 220, 'Other': 1}\n"
     ]
    }
   ],
   "source": [
    "# Sex, ethnicity, & race totals for Mantle Cell Lymphoma\n",
    "sex_frequency_mcl = frequency(mcl_clinical, \"Sex\")\n",
    "ethnicity_frequency_mcl = frequency(mcl_clinical, \"Ethnicity Category\")\n",
    "race_frequency_mcl = frequency(mcl_clinical, \"Primary Race\")\n",
    "print(\"Sex Frequency Mantle Cell Lymphoma:\", sex_frequency_mcl)\n",
    "print(\"Ethnicity Frequency Mantle Cell Lymphoma:\", ethnicity_frequency_mcl)\n",
    "print(\"Race Frequency Mantle Cell Lymphoma:\", race_frequency_mcl)"
   ]
  },
  {
   "cell_type": "code",
   "execution_count": 13,
   "metadata": {},
   "outputs": [
    {
     "name": "stdout",
     "output_type": "stream",
     "text": [
      "Sex Frequency Marginal Zone Lymphoma: {'Male': 8, 'Female': 7, 'Unknown': 49}\n",
      "Ethnicity Frequency Marginal Zone Lymphoma: {'Non-Spanish/non-Hispanic': 15, 'Unknown': 49}\n",
      "Race Frequency Marginal Zone Lymphoma: {'White': 15, 'Unknown': 49}\n"
     ]
    }
   ],
   "source": [
    "# Sex, ethnicity, & race totals for Marginal Zone Lymphoma\n",
    "sex_frequency_mzl = frequency(mzl_clinical, \"Sex\")\n",
    "ethnicity_frequency_mzl = frequency(mzl_clinical, \"Ethnicity Category\")\n",
    "race_frequency_mzl = frequency(mzl_clinical, \"Primary Race\")\n",
    "print(\"Sex Frequency Marginal Zone Lymphoma:\", sex_frequency_mzl)\n",
    "print(\"Ethnicity Frequency Marginal Zone Lymphoma:\", ethnicity_frequency_mzl)\n",
    "print(\"Race Frequency Marginal Zone Lymphoma:\", race_frequency_mzl)"
   ]
  },
  {
   "cell_type": "code",
   "execution_count": 14,
   "metadata": {},
   "outputs": [
    {
     "name": "stdout",
     "output_type": "stream",
     "text": [
      "Sex Frequency Splenic Marginal Zone Lymphoma: {'Male': 1, 'Unknown': 7, 'Female': 1}\n",
      "Ethnicity Frequency Splenic Marginal Zone Lymphoma: {'Non-Spanish/non-Hispanic': 2, 'Unknown': 7}\n",
      "Race Frequency Splenic Marginal Zone Lymphoma: {'White': 2, 'Unknown': 7}\n"
     ]
    }
   ],
   "source": [
    "# Sex, ethnicity, & race totals for Splenic Marginal Zone Lymphoma\n",
    "sex_frequency_smzl = frequency(smzl_clinical, \"Sex\")\n",
    "ethnicity_frequency_smzl = frequency(smzl_clinical, \"Ethnicity Category\")\n",
    "race_frequency_smzl = frequency(smzl_clinical, \"Primary Race\")\n",
    "print(\"Sex Frequency Splenic Marginal Zone Lymphoma:\", sex_frequency_smzl)\n",
    "print(\"Ethnicity Frequency Splenic Marginal Zone Lymphoma:\", ethnicity_frequency_smzl)\n",
    "print(\"Race Frequency Splenic Marginal Zone Lymphoma:\", race_frequency_smzl)"
   ]
  },
  {
   "cell_type": "code",
   "execution_count": 15,
   "metadata": {},
   "outputs": [
    {
     "name": "stdout",
     "output_type": "stream",
     "text": [
      "Sex Frequency Non-Hodgkin Lymphoma: {'Male': 12, 'Female': 10, 'Unknown': 7}\n",
      "Ethnicity Frequency Non-Hodgkin Lymphoma: {'Unknown': 8, 'Non-Spanish/non-Hispanic': 19, 'Spanish/Hispanic': 1, 'Not Collected': 1}\n",
      "Race Frequency Non-Hodgkin Lymphoma: {'Unknown': 9, 'White': 17, 'Other': 2, 'Not collected': 1}\n"
     ]
    }
   ],
   "source": [
    "# Sex, ethnicity, & race totals for Non-Hodgkin Lymphoma\n",
    "sex_frequency_nhl = frequency(nhl_clinical, \"Sex\")\n",
    "ethnicity_frequency_nhl = frequency(nhl_clinical, \"Ethnicity Category\")\n",
    "race_frequency_nhl = frequency(nhl_clinical, \"Primary Race\")\n",
    "print(\"Sex Frequency Non-Hodgkin Lymphoma:\", sex_frequency_nhl)\n",
    "print(\"Ethnicity Frequency Non-Hodgkin Lymphoma:\", ethnicity_frequency_nhl)\n",
    "print(\"Race Frequency Non-Hodgkin Lymphoma:\", race_frequency_nhl)"
   ]
  },
  {
   "cell_type": "code",
   "execution_count": 16,
   "metadata": {},
   "outputs": [
    {
     "name": "stdout",
     "output_type": "stream",
     "text": [
      "Sex Frequency Primary DLBCL of the central nervous system: {'COLU-CCCP-V1': 5, 'Male': 7, 'COLU-TSACP-V1': 1, 'DFCI-ONCOPANEL-2': 37, 'DFCI-ONCOPANEL-1': 5, 'DFCI-ONCOPANEL-3': 23, 'DFCI-ONCOPANEL-3.1': 25, 'Female': 6, 'JHU-500STP': 1, 'MSK-IMPACT410': 81, 'MSK-IMPACT-HEME-400': 323, 'MSK-IMPACT468': 6, 'Unknown': 2, 'MSK-IMPACT505': 2, 'MSK-IMPACT-HEME-468': 16, 'UCSF-IDTV5-TO': 1}\n",
      "Ethnicity Frequency Primary DLBCL of the central nervous system: {'FALSE': 129, 'TRUE': 68, 'Non-Spanish/non-Hispanic': 10, 'Unknown': 332, 'Spanish/Hispanic': 2}\n",
      "Race Frequency Primary DLBCL of the central nervous system: {'DLBCLNOS': 526, 'White': 10, 'Pacific Islander': 1, 'Unknown': 2, 'Other': 2}\n"
     ]
    }
   ],
   "source": [
    "# Sex, ethnicity, & race totals for Primary DLBCL of the central nervous system\n",
    "sex_frequency_dlbcl = frequency(dlbcl_clinical, \"Sex\")\n",
    "ethnicity_frequency_dlbcl = frequency(dlbcl_clinical, \"Ethnicity Category\")\n",
    "race_frequency_dlbcl = frequency(dlbcl_clinical, \"Primary Race\")\n",
    "print(\"Sex Frequency Primary DLBCL of the central nervous system:\", sex_frequency_dlbcl)\n",
    "print(\"Ethnicity Frequency Primary DLBCL of the central nervous system:\", ethnicity_frequency_dlbcl)\n",
    "print(\"Race Frequency Primary DLBCL of the central nervous system:\", race_frequency_dlbcl)"
   ]
  },
  {
   "cell_type": "code",
   "execution_count": 17,
   "metadata": {},
   "outputs": [
    {
     "name": "stdout",
     "output_type": "stream",
     "text": [
      "Sex Frequency Chronic Lymphocytic Leukemia/Small Lymphocytic Lymphoma: {'Male': 102, 'Female': 56, 'Unknown': 471}\n",
      "Ethnicity Frequency Chronic Lymphocytic Leukemia/Small Lymphocytic Lymphoma: {'Non-Spanish/non-Hispanic': 158, 'Unknown': 471}\n",
      "Race Frequency Chronic Lymphocytic Leukemia/Small Lymphocytic Lymphoma: {'White': 145, 'Unknown': 477, 'Native American': 1, 'Black': 2, 'Asian': 2, 'Other': 2}\n"
     ]
    }
   ],
   "source": [
    "# Sex, ethnicity, & race totals for Chronic Lymphocytic Leukemia/Small Lymphocytic Lymphoma\n",
    "sex_frequency_cll = frequency(cll_clinical, \"Sex\")\n",
    "ethnicity_frequency_cll = frequency(cll_clinical, \"Ethnicity Category\")\n",
    "race_frequency_cll = frequency(cll_clinical, \"Primary Race\")\n",
    "print(\"Sex Frequency Chronic Lymphocytic Leukemia/Small Lymphocytic Lymphoma:\", sex_frequency_cll)\n",
    "print(\"Ethnicity Frequency Chronic Lymphocytic Leukemia/Small Lymphocytic Lymphoma:\", ethnicity_frequency_cll)\n",
    "print(\"Race Frequency Chronic Lymphocytic Leukemia/Small Lymphocytic Lymphoma:\", race_frequency_cll)"
   ]
  }
 ],
 "metadata": {
  "kernelspec": {
   "display_name": "base",
   "language": "python",
   "name": "python3"
  },
  "language_info": {
   "codemirror_mode": {
    "name": "ipython",
    "version": 3
   },
   "file_extension": ".py",
   "mimetype": "text/x-python",
   "name": "python",
   "nbconvert_exporter": "python",
   "pygments_lexer": "ipython3",
   "version": "3.9.12"
  },
  "orig_nbformat": 4,
  "vscode": {
   "interpreter": {
    "hash": "c3c4cfcc03484d22f0ed75b36ddcb5de5e3b75a67602c9848a3a1193319069b6"
   }
  }
 },
 "nbformat": 4,
 "nbformat_minor": 2
}
